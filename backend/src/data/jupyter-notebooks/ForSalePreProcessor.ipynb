{
 "cells": [
  {
   "cell_type": "code",
   "execution_count": 1,
   "id": "4bb3c224",
   "metadata": {},
   "outputs": [],
   "source": [
    "import pandas as pd\n",
    "\n",
    "from sklearn.preprocessing import StandardScaler\n",
    "from sklearn.compose import ColumnTransformer\n",
    "\n",
    "import warnings\n",
    "import pickle\n",
    "\n",
    "warnings.filterwarnings('ignore')\n",
    "\n",
    "%matplotlib inline"
   ]
  },
  {
   "cell_type": "code",
   "execution_count": 2,
   "id": "1598944d",
   "metadata": {},
   "outputs": [
    {
     "data": {
      "text/html": [
       "<div>\n",
       "<style scoped>\n",
       "    .dataframe tbody tr th:only-of-type {\n",
       "        vertical-align: middle;\n",
       "    }\n",
       "\n",
       "    .dataframe tbody tr th {\n",
       "        vertical-align: top;\n",
       "    }\n",
       "\n",
       "    .dataframe thead th {\n",
       "        text-align: right;\n",
       "    }\n",
       "</style>\n",
       "<table border=\"1\" class=\"dataframe\">\n",
       "  <thead>\n",
       "    <tr style=\"text-align: right;\">\n",
       "      <th></th>\n",
       "      <th>id</th>\n",
       "      <th>floor</th>\n",
       "      <th>beds</th>\n",
       "      <th>price</th>\n",
       "      <th>size_m2</th>\n",
       "      <th>families</th>\n",
       "      <th>light_trail</th>\n",
       "      <th>parks</th>\n",
       "      <th>quiet_street</th>\n",
       "      <th>religious</th>\n",
       "      <th>school</th>\n",
       "      <th>secular</th>\n",
       "    </tr>\n",
       "  </thead>\n",
       "  <tbody>\n",
       "    <tr>\n",
       "      <th>0</th>\n",
       "      <td>d3dbVQErVCp</td>\n",
       "      <td>6</td>\n",
       "      <td>4</td>\n",
       "      <td>5290000</td>\n",
       "      <td>106</td>\n",
       "      <td>1.0</td>\n",
       "      <td>3.0</td>\n",
       "      <td>3.0</td>\n",
       "      <td>5.0</td>\n",
       "      <td>2.0</td>\n",
       "      <td>1.0</td>\n",
       "      <td>1.0</td>\n",
       "    </tr>\n",
       "    <tr>\n",
       "      <th>1</th>\n",
       "      <td>co745SgbSvo</td>\n",
       "      <td>4</td>\n",
       "      <td>2</td>\n",
       "      <td>4000000</td>\n",
       "      <td>81</td>\n",
       "      <td>2.0</td>\n",
       "      <td>3.0</td>\n",
       "      <td>3.0</td>\n",
       "      <td>1.0</td>\n",
       "      <td>2.0</td>\n",
       "      <td>1.0</td>\n",
       "      <td>1.0</td>\n",
       "    </tr>\n",
       "    <tr>\n",
       "      <th>2</th>\n",
       "      <td>hZ5vNRFKDr8</td>\n",
       "      <td>5</td>\n",
       "      <td>3</td>\n",
       "      <td>9500000</td>\n",
       "      <td>160</td>\n",
       "      <td>4.0</td>\n",
       "      <td>1.0</td>\n",
       "      <td>2.0</td>\n",
       "      <td>3.0</td>\n",
       "      <td>5.0</td>\n",
       "      <td>5.0</td>\n",
       "      <td>5.0</td>\n",
       "    </tr>\n",
       "    <tr>\n",
       "      <th>3</th>\n",
       "      <td>bMWmA4bbRo3</td>\n",
       "      <td>7</td>\n",
       "      <td>4</td>\n",
       "      <td>4980000</td>\n",
       "      <td>116</td>\n",
       "      <td>3.0</td>\n",
       "      <td>3.0</td>\n",
       "      <td>2.0</td>\n",
       "      <td>3.0</td>\n",
       "      <td>1.0</td>\n",
       "      <td>1.0</td>\n",
       "      <td>2.0</td>\n",
       "    </tr>\n",
       "    <tr>\n",
       "      <th>4</th>\n",
       "      <td>hTGedzNQG2f</td>\n",
       "      <td>13</td>\n",
       "      <td>4</td>\n",
       "      <td>7250000</td>\n",
       "      <td>105</td>\n",
       "      <td>1.0</td>\n",
       "      <td>5.0</td>\n",
       "      <td>1.0</td>\n",
       "      <td>3.0</td>\n",
       "      <td>2.0</td>\n",
       "      <td>2.0</td>\n",
       "      <td>5.0</td>\n",
       "    </tr>\n",
       "  </tbody>\n",
       "</table>\n",
       "</div>"
      ],
      "text/plain": [
       "            id  floor  beds    price  size_m2  families  light_trail  parks  \\\n",
       "0  d3dbVQErVCp      6     4  5290000      106       1.0          3.0    3.0   \n",
       "1  co745SgbSvo      4     2  4000000       81       2.0          3.0    3.0   \n",
       "2  hZ5vNRFKDr8      5     3  9500000      160       4.0          1.0    2.0   \n",
       "3  bMWmA4bbRo3      7     4  4980000      116       3.0          3.0    2.0   \n",
       "4  hTGedzNQG2f     13     4  7250000      105       1.0          5.0    1.0   \n",
       "\n",
       "   quiet_street  religious  school  secular  \n",
       "0           5.0        2.0     1.0      1.0  \n",
       "1           1.0        2.0     1.0      1.0  \n",
       "2           3.0        5.0     5.0      5.0  \n",
       "3           3.0        1.0     1.0      2.0  \n",
       "4           3.0        2.0     2.0      5.0  "
      ]
     },
     "execution_count": 2,
     "metadata": {},
     "output_type": "execute_result"
    }
   ],
   "source": [
    "def read_json_df(path):\n",
    "    json = pd.read_json(r\"{}\".format(path))\n",
    "    df_apartments = json[['id', 'floor', 'beds', 'price', 'size_m2']]\n",
    "    \n",
    "    df_tags = json.explode('tags').dropna(subset=['tags'])\n",
    "    df_tags['tag_category'] = df_tags['tags'].apply(lambda x: x['tag_category'])\n",
    "    df_tags['tag_value'] = df_tags['tags'].apply(lambda x: x['tag_value'])\n",
    "    \n",
    "    df_tags = df_tags.pivot_table(index='id',\n",
    "                                  columns='tag_category', \n",
    "                                  values='tag_value', \n",
    "                                  aggfunc='first').reset_index()\n",
    "    \n",
    "    df = df_apartments.merge(df_tags, on='id', how='left')\n",
    "    return df\n",
    "\n",
    "\n",
    "df = read_json_df(\"for_sale_apartments.json\")\n",
    "df.head()"
   ]
  },
  {
   "cell_type": "code",
   "execution_count": 3,
   "id": "2c2fdb58",
   "metadata": {},
   "outputs": [],
   "source": [
    "numerical_features = df.drop(\"id\",axis=1).columns"
   ]
  },
  {
   "cell_type": "code",
   "execution_count": 4,
   "id": "e1b4bc94",
   "metadata": {},
   "outputs": [],
   "source": [
    "numerical_transformer = StandardScaler()"
   ]
  },
  {
   "cell_type": "code",
   "execution_count": 5,
   "id": "ef91d87a",
   "metadata": {},
   "outputs": [],
   "source": [
    "preprocessor = ColumnTransformer(\n",
    "    transformers=[\n",
    "        ('num', numerical_transformer, numerical_features)\n",
    "    ])"
   ]
  },
  {
   "cell_type": "code",
   "execution_count": 6,
   "id": "f2762e83",
   "metadata": {},
   "outputs": [
    {
     "data": {
      "text/plain": [
       "array([[ 0.80261186,  0.03954489,  0.11938669, ..., -0.59878354,\n",
       "        -0.83507186, -1.07398861],\n",
       "       [ 0.26123038, -1.34452615, -0.05478728, ..., -0.59878354,\n",
       "        -0.83507186, -1.07398861],\n",
       "       [ 0.53192112, -0.65249063,  0.68781493, ...,  1.20677914,\n",
       "         2.69809781,  1.92034664],\n",
       "       ...,\n",
       "       [-0.00946037,  1.42361593, -0.0142817 , ...,  1.20677914,\n",
       "         0.04822056, -0.3254048 ],\n",
       "       [-0.00946037, -0.65249063, -0.41258652, ...,  1.20677914,\n",
       "         0.04822056, -0.3254048 ],\n",
       "       [-0.82153259,  0.73158041, -0.0142817 , ...,  1.20677914,\n",
       "         0.04822056, -0.3254048 ]])"
      ]
     },
     "execution_count": 6,
     "metadata": {},
     "output_type": "execute_result"
    }
   ],
   "source": [
    "preprocessor.fit_transform(df)"
   ]
  },
  {
   "cell_type": "code",
   "execution_count": 7,
   "id": "4bc99a4e",
   "metadata": {},
   "outputs": [],
   "source": [
    "with open('for_sale_preprocessor.pkl', 'wb') as f:\n",
    "    pickle.dump(preprocessor, f)"
   ]
  }
 ],
 "metadata": {
  "kernelspec": {
   "display_name": "Python 3 (ipykernel)",
   "language": "python",
   "name": "python3"
  },
  "language_info": {
   "codemirror_mode": {
    "name": "ipython",
    "version": 3
   },
   "file_extension": ".py",
   "mimetype": "text/x-python",
   "name": "python",
   "nbconvert_exporter": "python",
   "pygments_lexer": "ipython3",
   "version": "3.9.13"
  }
 },
 "nbformat": 4,
 "nbformat_minor": 5
}
