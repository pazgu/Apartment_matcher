{
 "cells": [
  {
   "cell_type": "code",
   "execution_count": 1,
   "id": "6cacba78",
   "metadata": {
    "id": "6cacba78"
   },
   "outputs": [],
   "source": [
    "import pandas as pd\n",
    "import numpy as np\n",
    "import seaborn as sns\n",
    "import matplotlib.pyplot as plt"
   ]
  },
  {
   "cell_type": "markdown",
   "id": "1e17e1ff",
   "metadata": {
    "id": "1e17e1ff"
   },
   "source": [
    "# Import cities data frames"
   ]
  },
  {
   "cell_type": "code",
   "execution_count": 2,
   "id": "294d642f",
   "metadata": {
    "id": "294d642f"
   },
   "outputs": [],
   "source": [
    "tlv_apartments = pd.read_csv('./data/madlan_apartments_telaviv.csv', encoding=\"utf-8-sig\")\n",
    "tlv_tags = pd.read_csv('./data/madlan_tags_telaviv.csv', encoding=\"utf-8-sig\")\n",
    "tlv_images = pd.read_csv('./data/madlan_images_telaviv.csv', encoding=\"utf-8-sig\")\n",
    "tlv_insight = pd.read_csv('./data/madlan_insights_telaviv.csv', encoding=\"utf-8-sig\")"
   ]
  },
  {
   "cell_type": "code",
   "execution_count": 3,
   "id": "2922006e",
   "metadata": {
    "id": "2922006e"
   },
   "outputs": [],
   "source": [
    "haifa_apartments = pd.read_csv('./data/madlan_apartments_haifa.csv', encoding=\"utf-8-sig\")\n",
    "haifa_tags = pd.read_csv('./data/madlan_tags_haifa.csv', encoding=\"utf-8-sig\")\n",
    "haifa_images = pd.read_csv('./data/madlan_images_haifa.csv', encoding=\"utf-8-sig\")\n",
    "haifa_insight = pd.read_csv('./data/madlan_insights_haifa.csv', encoding=\"utf-8-sig\")"
   ]
  },
  {
   "cell_type": "code",
   "execution_count": 4,
   "id": "aaab15a4",
   "metadata": {
    "id": "aaab15a4"
   },
   "outputs": [],
   "source": [
    "jerusalem_apartments = pd.read_csv('./data/madlan_apartments_jerusalem.csv', encoding=\"utf-8-sig\")\n",
    "jerusalem_tags = pd.read_csv('./data/madlan_tags_jerusalem.csv', encoding=\"utf-8-sig\")\n",
    "jerusalem_images = pd.read_csv('./data/madlan_images_jerusalem.csv', encoding=\"utf-8-sig\")\n",
    "jerusalem_insight = pd.read_csv('./data/madlan_insights_jerusalem.csv', encoding=\"utf-8-sig\")"
   ]
  },
  {
   "cell_type": "markdown",
   "id": "e6744172",
   "metadata": {
    "id": "e6744172"
   },
   "source": [
    "# Append dfs"
   ]
  },
  {
   "cell_type": "code",
   "execution_count": 5,
   "id": "372cfc0d",
   "metadata": {
    "id": "372cfc0d"
   },
   "outputs": [],
   "source": [
    "apartments = pd.concat([tlv_apartments, jerusalem_apartments, haifa_apartments])"
   ]
  },
  {
   "cell_type": "code",
   "execution_count": 6,
   "id": "f77563a4",
   "metadata": {
    "id": "f77563a4"
   },
   "outputs": [],
   "source": [
    "tags = pd.concat([tlv_tags, jerusalem_tags, haifa_tags])"
   ]
  },
  {
   "cell_type": "code",
   "execution_count": 7,
   "id": "f0714a5c",
   "metadata": {
    "id": "f0714a5c"
   },
   "outputs": [],
   "source": [
    "images = pd.concat([tlv_images, jerusalem_images, haifa_images])"
   ]
  },
  {
   "cell_type": "code",
   "execution_count": 8,
   "id": "fab3dd48",
   "metadata": {
    "id": "fab3dd48"
   },
   "outputs": [],
   "source": [
    "insight = pd.concat([tlv_insight, jerusalem_insight, haifa_insight])"
   ]
  },
  {
   "cell_type": "markdown",
   "id": "dc8d6929",
   "metadata": {
    "id": "dc8d6929"
   },
   "source": [
    "### DF.head()"
   ]
  },
  {
   "cell_type": "code",
   "execution_count": 9,
   "id": "43e23311",
   "metadata": {
    "id": "43e23311",
    "outputId": "4bd86851-0f78-4c58-fc94-557794b76c82"
   },
   "outputs": [
    {
     "data": {
      "text/html": [
       "<div>\n",
       "<style scoped>\n",
       "    .dataframe tbody tr th:only-of-type {\n",
       "        vertical-align: middle;\n",
       "    }\n",
       "\n",
       "    .dataframe tbody tr th {\n",
       "        vertical-align: top;\n",
       "    }\n",
       "\n",
       "    .dataframe thead th {\n",
       "        text-align: right;\n",
       "    }\n",
       "</style>\n",
       "<table border=\"1\" class=\"dataframe\">\n",
       "  <thead>\n",
       "    <tr style=\"text-align: right;\">\n",
       "      <th></th>\n",
       "      <th>id</th>\n",
       "      <th>lat</th>\n",
       "      <th>lng</th>\n",
       "      <th>create_date</th>\n",
       "      <th>address</th>\n",
       "      <th>floor</th>\n",
       "      <th>deal_type</th>\n",
       "      <th>beds</th>\n",
       "      <th>baths</th>\n",
       "      <th>price</th>\n",
       "      <th>size_m^2</th>\n",
       "      <th>condition</th>\n",
       "      <th>url</th>\n",
       "    </tr>\n",
       "  </thead>\n",
       "  <tbody>\n",
       "    <tr>\n",
       "      <th>0</th>\n",
       "      <td>g0umkhkigKb</td>\n",
       "      <td>31.905182</td>\n",
       "      <td>34.823404</td>\n",
       "      <td>2022-05-10 10:37:08</td>\n",
       "      <td>פרופ' כהנמן דניאל 1, רחובות</td>\n",
       "      <td>6.0</td>\n",
       "      <td>למכירה</td>\n",
       "      <td>5.0</td>\n",
       "      <td>NaN</td>\n",
       "      <td>3340000</td>\n",
       "      <td>130.0</td>\n",
       "      <td>משופץ</td>\n",
       "      <td>https://www.madlan.co.il/listings/g0umkhkigKb</td>\n",
       "    </tr>\n",
       "    <tr>\n",
       "      <th>1</th>\n",
       "      <td>ieVNwuOX98B</td>\n",
       "      <td>32.078710</td>\n",
       "      <td>34.781594</td>\n",
       "      <td>2023-12-20 10:26:49</td>\n",
       "      <td>מאנה 15, תל אביב יפו</td>\n",
       "      <td>2.0</td>\n",
       "      <td>להשכרה</td>\n",
       "      <td>3.0</td>\n",
       "      <td>NaN</td>\n",
       "      <td>10000</td>\n",
       "      <td>70.0</td>\n",
       "      <td>כמו חדש</td>\n",
       "      <td>https://www.madlan.co.il/listings/ieVNwuOX98B</td>\n",
       "    </tr>\n",
       "    <tr>\n",
       "      <th>2</th>\n",
       "      <td>kRYP2kIMVho</td>\n",
       "      <td>32.093788</td>\n",
       "      <td>34.799702</td>\n",
       "      <td>2023-12-20 10:35:53</td>\n",
       "      <td>בבלי 6, תל אביב יפו</td>\n",
       "      <td>3.0</td>\n",
       "      <td>להשכרה</td>\n",
       "      <td>5.0</td>\n",
       "      <td>NaN</td>\n",
       "      <td>12300</td>\n",
       "      <td>120.0</td>\n",
       "      <td>משופץ</td>\n",
       "      <td>https://www.madlan.co.il/listings/kRYP2kIMVho</td>\n",
       "    </tr>\n",
       "    <tr>\n",
       "      <th>3</th>\n",
       "      <td>bk4LlhcSrQI</td>\n",
       "      <td>32.089574</td>\n",
       "      <td>34.796605</td>\n",
       "      <td>2023-12-20 11:02:39</td>\n",
       "      <td>אלוני ניסים 13, תל אביב יפו</td>\n",
       "      <td>14.0</td>\n",
       "      <td>להשכרה</td>\n",
       "      <td>4.0</td>\n",
       "      <td>NaN</td>\n",
       "      <td>13000</td>\n",
       "      <td>170.0</td>\n",
       "      <td>כמו חדש</td>\n",
       "      <td>https://www.madlan.co.il/listings/bk4LlhcSrQI</td>\n",
       "    </tr>\n",
       "    <tr>\n",
       "      <th>4</th>\n",
       "      <td>cTRw7SDpf1E</td>\n",
       "      <td>32.046710</td>\n",
       "      <td>34.809844</td>\n",
       "      <td>2023-12-20 11:25:50</td>\n",
       "      <td>שדרות ששת הימים 13, תל אביב יפו</td>\n",
       "      <td>0.0</td>\n",
       "      <td>להשכרה</td>\n",
       "      <td>3.0</td>\n",
       "      <td>NaN</td>\n",
       "      <td>4800</td>\n",
       "      <td>85.0</td>\n",
       "      <td>משופץ</td>\n",
       "      <td>https://www.madlan.co.il/listings/cTRw7SDpf1E</td>\n",
       "    </tr>\n",
       "  </tbody>\n",
       "</table>\n",
       "</div>"
      ],
      "text/plain": [
       "            id        lat        lng          create_date  \\\n",
       "0  g0umkhkigKb  31.905182  34.823404  2022-05-10 10:37:08   \n",
       "1  ieVNwuOX98B  32.078710  34.781594  2023-12-20 10:26:49   \n",
       "2  kRYP2kIMVho  32.093788  34.799702  2023-12-20 10:35:53   \n",
       "3  bk4LlhcSrQI  32.089574  34.796605  2023-12-20 11:02:39   \n",
       "4  cTRw7SDpf1E  32.046710  34.809844  2023-12-20 11:25:50   \n",
       "\n",
       "                           address  floor deal_type  beds  baths    price  \\\n",
       "0      פרופ' כהנמן דניאל 1, רחובות    6.0    למכירה   5.0    NaN  3340000   \n",
       "1             מאנה 15, תל אביב יפו    2.0    להשכרה   3.0    NaN    10000   \n",
       "2              בבלי 6, תל אביב יפו    3.0    להשכרה   5.0    NaN    12300   \n",
       "3      אלוני ניסים 13, תל אביב יפו   14.0    להשכרה   4.0    NaN    13000   \n",
       "4  שדרות ששת הימים 13, תל אביב יפו    0.0    להשכרה   3.0    NaN     4800   \n",
       "\n",
       "   size_m^2 condition                                            url  \n",
       "0     130.0     משופץ  https://www.madlan.co.il/listings/g0umkhkigKb  \n",
       "1      70.0   כמו חדש  https://www.madlan.co.il/listings/ieVNwuOX98B  \n",
       "2     120.0     משופץ  https://www.madlan.co.il/listings/kRYP2kIMVho  \n",
       "3     170.0   כמו חדש  https://www.madlan.co.il/listings/bk4LlhcSrQI  \n",
       "4      85.0     משופץ  https://www.madlan.co.il/listings/cTRw7SDpf1E  "
      ]
     },
     "execution_count": 9,
     "metadata": {},
     "output_type": "execute_result"
    }
   ],
   "source": [
    "apartments.head()"
   ]
  },
  {
   "cell_type": "code",
   "execution_count": 10,
   "id": "1aea243d",
   "metadata": {
    "id": "1aea243d",
    "outputId": "e63e8879-443b-4916-8cf7-10f77e869f52"
   },
   "outputs": [
    {
     "data": {
      "text/html": [
       "<div>\n",
       "<style scoped>\n",
       "    .dataframe tbody tr th:only-of-type {\n",
       "        vertical-align: middle;\n",
       "    }\n",
       "\n",
       "    .dataframe tbody tr th {\n",
       "        vertical-align: top;\n",
       "    }\n",
       "\n",
       "    .dataframe thead th {\n",
       "        text-align: right;\n",
       "    }\n",
       "</style>\n",
       "<table border=\"1\" class=\"dataframe\">\n",
       "  <thead>\n",
       "    <tr style=\"text-align: right;\">\n",
       "      <th></th>\n",
       "      <th>id</th>\n",
       "      <th>image_url</th>\n",
       "    </tr>\n",
       "  </thead>\n",
       "  <tbody>\n",
       "    <tr>\n",
       "      <th>0</th>\n",
       "      <td>gBxSkU3fU6h</td>\n",
       "      <td>https://images2.madlan.co.il/t:nonce:v=2;resiz...</td>\n",
       "    </tr>\n",
       "    <tr>\n",
       "      <th>1</th>\n",
       "      <td>kk7wJwtf1uL</td>\n",
       "      <td>https://images2.madlan.co.il/t:nonce:v=2;resiz...</td>\n",
       "    </tr>\n",
       "    <tr>\n",
       "      <th>2</th>\n",
       "      <td>kk7wJwtf1uL</td>\n",
       "      <td>https://images2.madlan.co.il/t:nonce:v=2;resiz...</td>\n",
       "    </tr>\n",
       "    <tr>\n",
       "      <th>3</th>\n",
       "      <td>kk7wJwtf1uL</td>\n",
       "      <td>https://images2.madlan.co.il/t:nonce:v=2;resiz...</td>\n",
       "    </tr>\n",
       "    <tr>\n",
       "      <th>4</th>\n",
       "      <td>ct0ECL7b1HG</td>\n",
       "      <td>https://images2.madlan.co.il/t:nonce:v=2;resiz...</td>\n",
       "    </tr>\n",
       "  </tbody>\n",
       "</table>\n",
       "</div>"
      ],
      "text/plain": [
       "            id                                          image_url\n",
       "0  gBxSkU3fU6h  https://images2.madlan.co.il/t:nonce:v=2;resiz...\n",
       "1  kk7wJwtf1uL  https://images2.madlan.co.il/t:nonce:v=2;resiz...\n",
       "2  kk7wJwtf1uL  https://images2.madlan.co.il/t:nonce:v=2;resiz...\n",
       "3  kk7wJwtf1uL  https://images2.madlan.co.il/t:nonce:v=2;resiz...\n",
       "4  ct0ECL7b1HG  https://images2.madlan.co.il/t:nonce:v=2;resiz..."
      ]
     },
     "execution_count": 10,
     "metadata": {},
     "output_type": "execute_result"
    }
   ],
   "source": [
    "images.head()"
   ]
  },
  {
   "cell_type": "code",
   "execution_count": 11,
   "id": "64cae18a",
   "metadata": {
    "id": "64cae18a",
    "outputId": "4ba030ba-6fb1-4375-84f2-204b3f3ae481"
   },
   "outputs": [
    {
     "data": {
      "text/html": [
       "<div>\n",
       "<style scoped>\n",
       "    .dataframe tbody tr th:only-of-type {\n",
       "        vertical-align: middle;\n",
       "    }\n",
       "\n",
       "    .dataframe tbody tr th {\n",
       "        vertical-align: top;\n",
       "    }\n",
       "\n",
       "    .dataframe thead th {\n",
       "        text-align: right;\n",
       "    }\n",
       "</style>\n",
       "<table border=\"1\" class=\"dataframe\">\n",
       "  <thead>\n",
       "    <tr style=\"text-align: right;\">\n",
       "      <th></th>\n",
       "      <th>id</th>\n",
       "      <th>tag_category</th>\n",
       "      <th>tag_value</th>\n",
       "    </tr>\n",
       "  </thead>\n",
       "  <tbody>\n",
       "    <tr>\n",
       "      <th>0</th>\n",
       "      <td>gBxSkU3fU6h</td>\n",
       "      <td>דירוג בתי ספר</td>\n",
       "      <td>0.0</td>\n",
       "    </tr>\n",
       "    <tr>\n",
       "      <th>1</th>\n",
       "      <td>gBxSkU3fU6h</td>\n",
       "      <td>התאמה לחילונים</td>\n",
       "      <td>0.0</td>\n",
       "    </tr>\n",
       "    <tr>\n",
       "      <th>2</th>\n",
       "      <td>gBxSkU3fU6h</td>\n",
       "      <td>התאמה לדתיים</td>\n",
       "      <td>1.0</td>\n",
       "    </tr>\n",
       "    <tr>\n",
       "      <th>3</th>\n",
       "      <td>gBxSkU3fU6h</td>\n",
       "      <td>ביטחון</td>\n",
       "      <td>NaN</td>\n",
       "    </tr>\n",
       "    <tr>\n",
       "      <th>4</th>\n",
       "      <td>gBxSkU3fU6h</td>\n",
       "      <td>קירבה לפארקים</td>\n",
       "      <td>1.0</td>\n",
       "    </tr>\n",
       "  </tbody>\n",
       "</table>\n",
       "</div>"
      ],
      "text/plain": [
       "            id    tag_category  tag_value\n",
       "0  gBxSkU3fU6h   דירוג בתי ספר        0.0\n",
       "1  gBxSkU3fU6h  התאמה לחילונים        0.0\n",
       "2  gBxSkU3fU6h    התאמה לדתיים        1.0\n",
       "3  gBxSkU3fU6h          ביטחון        NaN\n",
       "4  gBxSkU3fU6h   קירבה לפארקים        1.0"
      ]
     },
     "execution_count": 11,
     "metadata": {},
     "output_type": "execute_result"
    }
   ],
   "source": [
    "tags.head()"
   ]
  },
  {
   "cell_type": "code",
   "execution_count": 12,
   "id": "8f8c325d",
   "metadata": {
    "id": "8f8c325d",
    "outputId": "f6dd410d-e53d-4667-c2f9-ecb9a314f965"
   },
   "outputs": [
    {
     "data": {
      "text/html": [
       "<div>\n",
       "<style scoped>\n",
       "    .dataframe tbody tr th:only-of-type {\n",
       "        vertical-align: middle;\n",
       "    }\n",
       "\n",
       "    .dataframe tbody tr th {\n",
       "        vertical-align: top;\n",
       "    }\n",
       "\n",
       "    .dataframe thead th {\n",
       "        text-align: right;\n",
       "    }\n",
       "</style>\n",
       "<table border=\"1\" class=\"dataframe\">\n",
       "  <thead>\n",
       "    <tr style=\"text-align: right;\">\n",
       "      <th></th>\n",
       "      <th>id</th>\n",
       "      <th>insight_category</th>\n",
       "      <th>insight_value</th>\n",
       "      <th>insight_values</th>\n",
       "    </tr>\n",
       "  </thead>\n",
       "  <tbody>\n",
       "    <tr>\n",
       "      <th>0</th>\n",
       "      <td>gBxSkU3fU6h</td>\n",
       "      <td>livability</td>\n",
       "      <td>NaN</td>\n",
       "      <td>בילויים, קניות וסידורים במרחק הליכה קצרה</td>\n",
       "    </tr>\n",
       "    <tr>\n",
       "      <th>1</th>\n",
       "      <td>gBxSkU3fU6h</td>\n",
       "      <td>nuisances</td>\n",
       "      <td>NaN</td>\n",
       "      <td>הקמת המטרו תגרום למטרדי בנייה באזור</td>\n",
       "    </tr>\n",
       "    <tr>\n",
       "      <th>2</th>\n",
       "      <td>gBxSkU3fU6h</td>\n",
       "      <td>planning</td>\n",
       "      <td>NaN</td>\n",
       "      <td>רובע עירוני חדש יקום בפי גלילות</td>\n",
       "    </tr>\n",
       "    <tr>\n",
       "      <th>3</th>\n",
       "      <td>gBxSkU3fU6h</td>\n",
       "      <td>transportation</td>\n",
       "      <td>NaN</td>\n",
       "      <td>גשר מתוכנן יקשר לאזורי חן ולים</td>\n",
       "    </tr>\n",
       "    <tr>\n",
       "      <th>4</th>\n",
       "      <td>gBxSkU3fU6h</td>\n",
       "      <td>transportation</td>\n",
       "      <td>NaN</td>\n",
       "      <td>צפוי שיפור בשבילי האופניים באזור</td>\n",
       "    </tr>\n",
       "  </tbody>\n",
       "</table>\n",
       "</div>"
      ],
      "text/plain": [
       "            id insight_category insight_value  \\\n",
       "0  gBxSkU3fU6h       livability           NaN   \n",
       "1  gBxSkU3fU6h        nuisances           NaN   \n",
       "2  gBxSkU3fU6h         planning           NaN   \n",
       "3  gBxSkU3fU6h   transportation           NaN   \n",
       "4  gBxSkU3fU6h   transportation           NaN   \n",
       "\n",
       "                             insight_values  \n",
       "0  בילויים, קניות וסידורים במרחק הליכה קצרה  \n",
       "1       הקמת המטרו תגרום למטרדי בנייה באזור  \n",
       "2           רובע עירוני חדש יקום בפי גלילות  \n",
       "3            גשר מתוכנן יקשר לאזורי חן ולים  \n",
       "4          צפוי שיפור בשבילי האופניים באזור  "
      ]
     },
     "execution_count": 12,
     "metadata": {},
     "output_type": "execute_result"
    }
   ],
   "source": [
    "insight.head()"
   ]
  },
  {
   "cell_type": "markdown",
   "id": "57544335",
   "metadata": {},
   "source": [
    "## Working on Apartments"
   ]
  },
  {
   "cell_type": "code",
   "execution_count": 13,
   "id": "835089dd",
   "metadata": {},
   "outputs": [
    {
     "data": {
      "text/plain": [
       "7002"
      ]
     },
     "execution_count": 13,
     "metadata": {},
     "output_type": "execute_result"
    }
   ],
   "source": [
    "apartments.isnull().sum().sum()"
   ]
  },
  {
   "cell_type": "code",
   "execution_count": 14,
   "id": "355f705a",
   "metadata": {},
   "outputs": [],
   "source": [
    "# filling na values with mean value per dealtype\n",
    "\n",
    "avg_price_for_sale = int(round(apartments[apartments.deal_type==\"למכירה\"][\"price\"].mean(),0))\n",
    "avg_price_for_rent = int(round(apartments[apartments.deal_type==\"להשכרה\"][\"price\"].mean(),0))\n",
    "\n",
    "avg_size_for_sale = int(round(apartments[apartments.deal_type==\"למכירה\"][\"size_m^2\"].mean(),0))\n",
    "avg_size_for_rent = int(round(apartments[apartments.deal_type==\"להשכרה\"][\"size_m^2\"].mean(),0))\n",
    "\n",
    "avg_beds_for_sale = int(round(apartments[apartments.deal_type==\"למכירה\"][\"beds\"].mean(),0))\n",
    "avg_beds_for_rent = int(round(apartments[apartments.deal_type==\"להשכרה\"][\"beds\"].mean(),0))\n",
    "\n",
    "\n",
    "avg_floor_for_sale = int(round(apartments[apartments.deal_type==\"למכירה\"][\"floor\"].mean(),0))\n",
    "avg_floor_for_rent = int(round(apartments[apartments.deal_type==\"להשכרה\"][\"floor\"].mean(),0))"
   ]
  },
  {
   "cell_type": "code",
   "execution_count": 15,
   "id": "723a419f",
   "metadata": {},
   "outputs": [],
   "source": [
    "apartments.loc[apartments.deal_type==\"למכירה\", \"price\"] = apartments.loc[apartments.deal_type==\"למכירה\", \"price\"].fillna(avg_price_for_sale)\n",
    "apartments.loc[apartments.deal_type==\"להשכרה\", \"price\"] = apartments.loc[apartments.deal_type==\"להשכרה\", \"price\"].fillna(avg_price_for_rent)\n",
    "\n",
    "apartments.loc[apartments.deal_type==\"למכירה\", \"size_m^2\"] = apartments.loc[apartments.deal_type==\"למכירה\", \"size_m^2\"].fillna(avg_size_for_sale)\n",
    "apartments.loc[apartments.deal_type==\"להשכרה\", \"size_m^2\"] = apartments.loc[apartments.deal_type==\"להשכרה\", \"size_m^2\"].fillna(avg_size_for_rent)\n",
    "\n",
    "apartments.loc[apartments.deal_type==\"למכירה\", \"beds\"] = apartments.loc[apartments.deal_type==\"למכירה\", \"beds\"].fillna(avg_beds_for_sale)\n",
    "apartments.loc[apartments.deal_type==\"להשכרה\", \"beds\"] = apartments.loc[apartments.deal_type==\"להשכרה\", \"beds\"].fillna(avg_beds_for_rent)\n",
    "\n",
    "apartments.loc[apartments.deal_type==\"למכירה\", \"floor\"] = apartments.loc[apartments.deal_type==\"למכירה\", \"floor\"].fillna(avg_floor_for_sale)\n",
    "apartments.loc[apartments.deal_type==\"להשכרה\", \"floor\"] = apartments.loc[apartments.deal_type==\"להשכרה\", \"floor\"].fillna(avg_floor_for_rent)"
   ]
  },
  {
   "cell_type": "code",
   "execution_count": 16,
   "id": "f14e42e4",
   "metadata": {},
   "outputs": [
    {
     "data": {
      "text/plain": [
       "id                0\n",
       "lat               0\n",
       "lng               0\n",
       "create_date       0\n",
       "address           0\n",
       "floor             0\n",
       "deal_type         0\n",
       "beds              0\n",
       "baths          6710\n",
       "price             0\n",
       "size_m^2          0\n",
       "condition         0\n",
       "url               0\n",
       "dtype: int64"
      ]
     },
     "execution_count": 16,
     "metadata": {},
     "output_type": "execute_result"
    }
   ],
   "source": [
    "apartments.isna().sum()"
   ]
  },
  {
   "cell_type": "code",
   "execution_count": 17,
   "id": "2925beb6",
   "metadata": {},
   "outputs": [],
   "source": [
    "apartments.drop(\"baths\",axis=1,inplace=True)"
   ]
  },
  {
   "cell_type": "code",
   "execution_count": 18,
   "id": "58b97ba9",
   "metadata": {},
   "outputs": [
    {
     "name": "stdout",
     "output_type": "stream",
     "text": [
      "<class 'pandas.core.frame.DataFrame'>\n",
      "Int64Index: 6710 entries, 0 to 1894\n",
      "Data columns (total 12 columns):\n",
      " #   Column       Non-Null Count  Dtype  \n",
      "---  ------       --------------  -----  \n",
      " 0   id           6710 non-null   object \n",
      " 1   lat          6710 non-null   float64\n",
      " 2   lng          6710 non-null   float64\n",
      " 3   create_date  6710 non-null   object \n",
      " 4   address      6710 non-null   object \n",
      " 5   floor        6710 non-null   float64\n",
      " 6   deal_type    6710 non-null   object \n",
      " 7   beds         6710 non-null   float64\n",
      " 8   price        6710 non-null   int64  \n",
      " 9   size_m^2     6710 non-null   float64\n",
      " 10  condition    6710 non-null   object \n",
      " 11  url          6710 non-null   object \n",
      "dtypes: float64(5), int64(1), object(6)\n",
      "memory usage: 681.5+ KB\n"
     ]
    }
   ],
   "source": [
    "apartments.info()"
   ]
  },
  {
   "cell_type": "code",
   "execution_count": 19,
   "id": "b89876ae",
   "metadata": {},
   "outputs": [],
   "source": [
    "#changing data types\n",
    "apartments['create_date'] = pd.to_datetime(apartments['create_date']).dt.strftime('%Y-%m-%d %H:%M:%S')\n",
    "apartments.address = apartments.address.astype(str)\n",
    "apartments.deal_type = apartments.deal_type.astype(str)\n",
    "apartments.condition = apartments.condition.astype(str)\n",
    "apartments.url = apartments.url.astype(str)\n",
    "apartments.floor = apartments.floor.astype(int)\n",
    "apartments.beds = apartments.beds.astype(int)\n",
    "apartments.price = apartments.price.astype(int)\n",
    "apartments[\"size_m^2\"] = apartments[\"size_m^2\"].astype(int)"
   ]
  },
  {
   "cell_type": "code",
   "execution_count": 20,
   "id": "063fe7d0",
   "metadata": {},
   "outputs": [],
   "source": [
    "apartments.rename(columns={\"size_m^2\":\"size_m2\"},inplace=True)"
   ]
  },
  {
   "cell_type": "markdown",
   "id": "20fc3aac",
   "metadata": {
    "id": "20fc3aac"
   },
   "source": [
    "## Working on Insights"
   ]
  },
  {
   "cell_type": "code",
   "execution_count": 21,
   "id": "f9c6c592",
   "metadata": {
    "id": "f9c6c592",
    "outputId": "8d0f5d30-1acf-40ad-a785-15374d025919"
   },
   "outputs": [
    {
     "data": {
      "text/plain": [
       "array(['livability', 'nuisances', 'planning', 'transportation',\n",
       "       'education', 'familyFriendly', 'prices', 'safety', 'community'],\n",
       "      dtype=object)"
      ]
     },
     "execution_count": 21,
     "metadata": {},
     "output_type": "execute_result"
    }
   ],
   "source": [
    "insight.insight_category.unique()"
   ]
  },
  {
   "cell_type": "code",
   "execution_count": 22,
   "id": "f9a74512",
   "metadata": {
    "id": "f9a74512"
   },
   "outputs": [],
   "source": [
    "d = {\n",
    "    \"livability\":\"חיים\",\n",
    "    \"nuisances\":\"מטרד\",\n",
    "    \"planning\":\"תכנון\",\n",
    "    \"transportation\":\"תחבורה\",\n",
    "    \"education\":\"חינוך\",\n",
    "    \"familyFriendly\":\"ידידותי למשפחה\",\n",
    "    \"prices\":\"מחירים\",\n",
    "    \"safety\":\"בטיחות\",\n",
    "    \"community\":\"קהילה\"\n",
    "}\n",
    "insight.insight_category = insight.insight_category.replace(d)"
   ]
  },
  {
   "cell_type": "code",
   "execution_count": 23,
   "id": "857babfe",
   "metadata": {
    "id": "857babfe",
    "outputId": "23d1d230-2d4f-41c0-dcd0-58d592ba8f60"
   },
   "outputs": [
    {
     "data": {
      "text/html": [
       "<div>\n",
       "<style scoped>\n",
       "    .dataframe tbody tr th:only-of-type {\n",
       "        vertical-align: middle;\n",
       "    }\n",
       "\n",
       "    .dataframe tbody tr th {\n",
       "        vertical-align: top;\n",
       "    }\n",
       "\n",
       "    .dataframe thead th {\n",
       "        text-align: right;\n",
       "    }\n",
       "</style>\n",
       "<table border=\"1\" class=\"dataframe\">\n",
       "  <thead>\n",
       "    <tr style=\"text-align: right;\">\n",
       "      <th></th>\n",
       "      <th>id</th>\n",
       "      <th>insight_category</th>\n",
       "      <th>insight_value</th>\n",
       "      <th>insight_values</th>\n",
       "    </tr>\n",
       "  </thead>\n",
       "  <tbody>\n",
       "    <tr>\n",
       "      <th>0</th>\n",
       "      <td>gBxSkU3fU6h</td>\n",
       "      <td>חיים</td>\n",
       "      <td>NaN</td>\n",
       "      <td>בילויים, קניות וסידורים במרחק הליכה קצרה</td>\n",
       "    </tr>\n",
       "    <tr>\n",
       "      <th>1</th>\n",
       "      <td>gBxSkU3fU6h</td>\n",
       "      <td>מטרד</td>\n",
       "      <td>NaN</td>\n",
       "      <td>הקמת המטרו תגרום למטרדי בנייה באזור</td>\n",
       "    </tr>\n",
       "    <tr>\n",
       "      <th>2</th>\n",
       "      <td>gBxSkU3fU6h</td>\n",
       "      <td>תכנון</td>\n",
       "      <td>NaN</td>\n",
       "      <td>רובע עירוני חדש יקום בפי גלילות</td>\n",
       "    </tr>\n",
       "    <tr>\n",
       "      <th>3</th>\n",
       "      <td>gBxSkU3fU6h</td>\n",
       "      <td>תחבורה</td>\n",
       "      <td>NaN</td>\n",
       "      <td>גשר מתוכנן יקשר לאזורי חן ולים</td>\n",
       "    </tr>\n",
       "    <tr>\n",
       "      <th>4</th>\n",
       "      <td>gBxSkU3fU6h</td>\n",
       "      <td>תחבורה</td>\n",
       "      <td>NaN</td>\n",
       "      <td>צפוי שיפור בשבילי האופניים באזור</td>\n",
       "    </tr>\n",
       "  </tbody>\n",
       "</table>\n",
       "</div>"
      ],
      "text/plain": [
       "            id insight_category insight_value  \\\n",
       "0  gBxSkU3fU6h             חיים           NaN   \n",
       "1  gBxSkU3fU6h             מטרד           NaN   \n",
       "2  gBxSkU3fU6h            תכנון           NaN   \n",
       "3  gBxSkU3fU6h           תחבורה           NaN   \n",
       "4  gBxSkU3fU6h           תחבורה           NaN   \n",
       "\n",
       "                             insight_values  \n",
       "0  בילויים, קניות וסידורים במרחק הליכה קצרה  \n",
       "1       הקמת המטרו תגרום למטרדי בנייה באזור  \n",
       "2           רובע עירוני חדש יקום בפי גלילות  \n",
       "3            גשר מתוכנן יקשר לאזורי חן ולים  \n",
       "4          צפוי שיפור בשבילי האופניים באזור  "
      ]
     },
     "execution_count": 23,
     "metadata": {},
     "output_type": "execute_result"
    }
   ],
   "source": [
    "insight.head()"
   ]
  },
  {
   "cell_type": "code",
   "execution_count": 24,
   "id": "90defb3d",
   "metadata": {
    "id": "90defb3d"
   },
   "outputs": [],
   "source": [
    "def fill_insight(row):\n",
    "    if pd.isnull(row['insight_value']):\n",
    "        return row['insight_values']\n",
    "    else:\n",
    "        return row['insight_value']\n",
    "\n",
    "insight['new_insight_value'] = insight.apply(fill_insight, axis=1)"
   ]
  },
  {
   "cell_type": "code",
   "execution_count": 25,
   "id": "b78a5f2a",
   "metadata": {
    "id": "b78a5f2a",
    "outputId": "4d9522c8-c1ea-4278-f760-13a859c9a7eb"
   },
   "outputs": [
    {
     "data": {
      "text/html": [
       "<div>\n",
       "<style scoped>\n",
       "    .dataframe tbody tr th:only-of-type {\n",
       "        vertical-align: middle;\n",
       "    }\n",
       "\n",
       "    .dataframe tbody tr th {\n",
       "        vertical-align: top;\n",
       "    }\n",
       "\n",
       "    .dataframe thead th {\n",
       "        text-align: right;\n",
       "    }\n",
       "</style>\n",
       "<table border=\"1\" class=\"dataframe\">\n",
       "  <thead>\n",
       "    <tr style=\"text-align: right;\">\n",
       "      <th></th>\n",
       "      <th>id</th>\n",
       "      <th>insight_category</th>\n",
       "      <th>insight_value</th>\n",
       "      <th>insight_values</th>\n",
       "      <th>new_insight_value</th>\n",
       "    </tr>\n",
       "  </thead>\n",
       "  <tbody>\n",
       "    <tr>\n",
       "      <th>0</th>\n",
       "      <td>gBxSkU3fU6h</td>\n",
       "      <td>חיים</td>\n",
       "      <td>NaN</td>\n",
       "      <td>בילויים, קניות וסידורים במרחק הליכה קצרה</td>\n",
       "      <td>בילויים, קניות וסידורים במרחק הליכה קצרה</td>\n",
       "    </tr>\n",
       "    <tr>\n",
       "      <th>1</th>\n",
       "      <td>gBxSkU3fU6h</td>\n",
       "      <td>מטרד</td>\n",
       "      <td>NaN</td>\n",
       "      <td>הקמת המטרו תגרום למטרדי בנייה באזור</td>\n",
       "      <td>הקמת המטרו תגרום למטרדי בנייה באזור</td>\n",
       "    </tr>\n",
       "    <tr>\n",
       "      <th>2</th>\n",
       "      <td>gBxSkU3fU6h</td>\n",
       "      <td>תכנון</td>\n",
       "      <td>NaN</td>\n",
       "      <td>רובע עירוני חדש יקום בפי גלילות</td>\n",
       "      <td>רובע עירוני חדש יקום בפי גלילות</td>\n",
       "    </tr>\n",
       "    <tr>\n",
       "      <th>3</th>\n",
       "      <td>gBxSkU3fU6h</td>\n",
       "      <td>תחבורה</td>\n",
       "      <td>NaN</td>\n",
       "      <td>גשר מתוכנן יקשר לאזורי חן ולים</td>\n",
       "      <td>גשר מתוכנן יקשר לאזורי חן ולים</td>\n",
       "    </tr>\n",
       "    <tr>\n",
       "      <th>4</th>\n",
       "      <td>gBxSkU3fU6h</td>\n",
       "      <td>תחבורה</td>\n",
       "      <td>NaN</td>\n",
       "      <td>צפוי שיפור בשבילי האופניים באזור</td>\n",
       "      <td>צפוי שיפור בשבילי האופניים באזור</td>\n",
       "    </tr>\n",
       "  </tbody>\n",
       "</table>\n",
       "</div>"
      ],
      "text/plain": [
       "            id insight_category insight_value  \\\n",
       "0  gBxSkU3fU6h             חיים           NaN   \n",
       "1  gBxSkU3fU6h             מטרד           NaN   \n",
       "2  gBxSkU3fU6h            תכנון           NaN   \n",
       "3  gBxSkU3fU6h           תחבורה           NaN   \n",
       "4  gBxSkU3fU6h           תחבורה           NaN   \n",
       "\n",
       "                             insight_values  \\\n",
       "0  בילויים, קניות וסידורים במרחק הליכה קצרה   \n",
       "1       הקמת המטרו תגרום למטרדי בנייה באזור   \n",
       "2           רובע עירוני חדש יקום בפי גלילות   \n",
       "3            גשר מתוכנן יקשר לאזורי חן ולים   \n",
       "4          צפוי שיפור בשבילי האופניים באזור   \n",
       "\n",
       "                          new_insight_value  \n",
       "0  בילויים, קניות וסידורים במרחק הליכה קצרה  \n",
       "1       הקמת המטרו תגרום למטרדי בנייה באזור  \n",
       "2           רובע עירוני חדש יקום בפי גלילות  \n",
       "3            גשר מתוכנן יקשר לאזורי חן ולים  \n",
       "4          צפוי שיפור בשבילי האופניים באזור  "
      ]
     },
     "execution_count": 25,
     "metadata": {},
     "output_type": "execute_result"
    }
   ],
   "source": [
    "insight.head()"
   ]
  },
  {
   "cell_type": "code",
   "execution_count": 26,
   "id": "18ab7504",
   "metadata": {
    "id": "18ab7504"
   },
   "outputs": [],
   "source": [
    "insight = insight[[\"id\",\"insight_category\",\"new_insight_value\"]].rename(columns={\"new_insight_value\":\"insight_value\"})"
   ]
  },
  {
   "cell_type": "code",
   "execution_count": 27,
   "id": "30d0c8c3",
   "metadata": {
    "id": "30d0c8c3",
    "outputId": "bbf2b3f6-f93e-4f71-d326-8df960d5062c"
   },
   "outputs": [
    {
     "data": {
      "text/html": [
       "<div>\n",
       "<style scoped>\n",
       "    .dataframe tbody tr th:only-of-type {\n",
       "        vertical-align: middle;\n",
       "    }\n",
       "\n",
       "    .dataframe tbody tr th {\n",
       "        vertical-align: top;\n",
       "    }\n",
       "\n",
       "    .dataframe thead th {\n",
       "        text-align: right;\n",
       "    }\n",
       "</style>\n",
       "<table border=\"1\" class=\"dataframe\">\n",
       "  <thead>\n",
       "    <tr style=\"text-align: right;\">\n",
       "      <th></th>\n",
       "      <th>id</th>\n",
       "      <th>insight_category</th>\n",
       "      <th>insight_value</th>\n",
       "    </tr>\n",
       "  </thead>\n",
       "  <tbody>\n",
       "    <tr>\n",
       "      <th>0</th>\n",
       "      <td>gBxSkU3fU6h</td>\n",
       "      <td>חיים</td>\n",
       "      <td>בילויים, קניות וסידורים במרחק הליכה קצרה</td>\n",
       "    </tr>\n",
       "    <tr>\n",
       "      <th>1</th>\n",
       "      <td>gBxSkU3fU6h</td>\n",
       "      <td>מטרד</td>\n",
       "      <td>הקמת המטרו תגרום למטרדי בנייה באזור</td>\n",
       "    </tr>\n",
       "    <tr>\n",
       "      <th>2</th>\n",
       "      <td>gBxSkU3fU6h</td>\n",
       "      <td>תכנון</td>\n",
       "      <td>רובע עירוני חדש יקום בפי גלילות</td>\n",
       "    </tr>\n",
       "    <tr>\n",
       "      <th>3</th>\n",
       "      <td>gBxSkU3fU6h</td>\n",
       "      <td>תחבורה</td>\n",
       "      <td>גשר מתוכנן יקשר לאזורי חן ולים</td>\n",
       "    </tr>\n",
       "    <tr>\n",
       "      <th>4</th>\n",
       "      <td>gBxSkU3fU6h</td>\n",
       "      <td>תחבורה</td>\n",
       "      <td>צפוי שיפור בשבילי האופניים באזור</td>\n",
       "    </tr>\n",
       "  </tbody>\n",
       "</table>\n",
       "</div>"
      ],
      "text/plain": [
       "            id insight_category                             insight_value\n",
       "0  gBxSkU3fU6h             חיים  בילויים, קניות וסידורים במרחק הליכה קצרה\n",
       "1  gBxSkU3fU6h             מטרד       הקמת המטרו תגרום למטרדי בנייה באזור\n",
       "2  gBxSkU3fU6h            תכנון           רובע עירוני חדש יקום בפי גלילות\n",
       "3  gBxSkU3fU6h           תחבורה            גשר מתוכנן יקשר לאזורי חן ולים\n",
       "4  gBxSkU3fU6h           תחבורה          צפוי שיפור בשבילי האופניים באזור"
      ]
     },
     "execution_count": 27,
     "metadata": {},
     "output_type": "execute_result"
    }
   ],
   "source": [
    "insight.head()"
   ]
  },
  {
   "cell_type": "code",
   "execution_count": 28,
   "id": "a561fe09",
   "metadata": {
    "id": "a561fe09",
    "outputId": "588d9b6a-30ac-4b78-8c83-35dd1a36e1ca"
   },
   "outputs": [
    {
     "data": {
      "text/html": [
       "<div>\n",
       "<style scoped>\n",
       "    .dataframe tbody tr th:only-of-type {\n",
       "        vertical-align: middle;\n",
       "    }\n",
       "\n",
       "    .dataframe tbody tr th {\n",
       "        vertical-align: top;\n",
       "    }\n",
       "\n",
       "    .dataframe thead th {\n",
       "        text-align: right;\n",
       "    }\n",
       "</style>\n",
       "<table border=\"1\" class=\"dataframe\">\n",
       "  <thead>\n",
       "    <tr style=\"text-align: right;\">\n",
       "      <th></th>\n",
       "      <th>id</th>\n",
       "      <th>insight_category</th>\n",
       "      <th>insight_value</th>\n",
       "    </tr>\n",
       "  </thead>\n",
       "  <tbody>\n",
       "    <tr>\n",
       "      <th>count</th>\n",
       "      <td>76143</td>\n",
       "      <td>76143</td>\n",
       "      <td>49266</td>\n",
       "    </tr>\n",
       "    <tr>\n",
       "      <th>unique</th>\n",
       "      <td>6275</td>\n",
       "      <td>9</td>\n",
       "      <td>450</td>\n",
       "    </tr>\n",
       "    <tr>\n",
       "      <th>top</th>\n",
       "      <td>j7mvHwcQbOu</td>\n",
       "      <td>חיים</td>\n",
       "      <td>סביבה מתאימה למשפחות</td>\n",
       "    </tr>\n",
       "    <tr>\n",
       "      <th>freq</th>\n",
       "      <td>24</td>\n",
       "      <td>21105</td>\n",
       "      <td>5858</td>\n",
       "    </tr>\n",
       "  </tbody>\n",
       "</table>\n",
       "</div>"
      ],
      "text/plain": [
       "                 id insight_category         insight_value\n",
       "count         76143            76143                 49266\n",
       "unique         6275                9                   450\n",
       "top     j7mvHwcQbOu             חיים  סביבה מתאימה למשפחות\n",
       "freq             24            21105                  5858"
      ]
     },
     "execution_count": 28,
     "metadata": {},
     "output_type": "execute_result"
    }
   ],
   "source": [
    "insight.describe()"
   ]
  },
  {
   "cell_type": "code",
   "execution_count": 29,
   "id": "450caa9f",
   "metadata": {
    "id": "450caa9f",
    "outputId": "be050c8d-d230-4f30-cc45-900bcf72683e"
   },
   "outputs": [
    {
     "name": "stdout",
     "output_type": "stream",
     "text": [
      "NaN values: 26877\n"
     ]
    }
   ],
   "source": [
    "print(f\"NaN values: {insight.insight_value.isnull().sum()}\")"
   ]
  },
  {
   "cell_type": "code",
   "execution_count": 30,
   "id": "e7c46426",
   "metadata": {
    "id": "e7c46426",
    "outputId": "0c7e0b28-616e-40ef-b3f8-e94c4d3110dc"
   },
   "outputs": [
    {
     "data": {
      "text/plain": [
       "(array([    0,     1,     2, ..., 76138, 76139, 76140], dtype=int64),)"
      ]
     },
     "execution_count": 30,
     "metadata": {},
     "output_type": "execute_result"
    }
   ],
   "source": [
    "#getting all indices of non null rows\n",
    "slices = np.where(\n",
    "    ~(\n",
    "        insight.insight_value.isnull()\n",
    "    )\n",
    ")\n",
    "slices"
   ]
  },
  {
   "cell_type": "code",
   "execution_count": 31,
   "id": "c58c3f96",
   "metadata": {
    "id": "c58c3f96"
   },
   "outputs": [],
   "source": [
    "insight = insight.iloc[slices]"
   ]
  },
  {
   "cell_type": "code",
   "execution_count": 32,
   "id": "36719528",
   "metadata": {
    "id": "36719528",
    "outputId": "f0eb1efa-5520-42fc-e3f0-74c0ad6fa7f5"
   },
   "outputs": [
    {
     "name": "stdout",
     "output_type": "stream",
     "text": [
      "49266\n"
     ]
    }
   ],
   "source": [
    "print(len(insight))"
   ]
  },
  {
   "cell_type": "code",
   "execution_count": 33,
   "id": "22214306",
   "metadata": {
    "id": "22214306",
    "outputId": "5a81ce14-767f-46e0-9016-93ef9872374b"
   },
   "outputs": [
    {
     "data": {
      "text/html": [
       "<div>\n",
       "<style scoped>\n",
       "    .dataframe tbody tr th:only-of-type {\n",
       "        vertical-align: middle;\n",
       "    }\n",
       "\n",
       "    .dataframe tbody tr th {\n",
       "        vertical-align: top;\n",
       "    }\n",
       "\n",
       "    .dataframe thead th {\n",
       "        text-align: right;\n",
       "    }\n",
       "</style>\n",
       "<table border=\"1\" class=\"dataframe\">\n",
       "  <thead>\n",
       "    <tr style=\"text-align: right;\">\n",
       "      <th></th>\n",
       "      <th>id</th>\n",
       "      <th>insight_category</th>\n",
       "      <th>insight_value</th>\n",
       "    </tr>\n",
       "  </thead>\n",
       "  <tbody>\n",
       "    <tr>\n",
       "      <th>17884</th>\n",
       "      <td>gU6gV1DFpep</td>\n",
       "      <td>מחירים</td>\n",
       "      <td>לנכס יש רישום מלא בטאבו, וזה לא מובן מאליו</td>\n",
       "    </tr>\n",
       "    <tr>\n",
       "      <th>17887</th>\n",
       "      <td>hPtI7w1hshL</td>\n",
       "      <td>חינוך</td>\n",
       "      <td>בית הספר הסמוך לדירה מדורג נמוך מאוד</td>\n",
       "    </tr>\n",
       "    <tr>\n",
       "      <th>17888</th>\n",
       "      <td>hPtI7w1hshL</td>\n",
       "      <td>ידידותי למשפחה</td>\n",
       "      <td>סביבה מתאימה למשפחות</td>\n",
       "    </tr>\n",
       "    <tr>\n",
       "      <th>17889</th>\n",
       "      <td>hPtI7w1hshL</td>\n",
       "      <td>חיים</td>\n",
       "      <td>Good park access</td>\n",
       "    </tr>\n",
       "    <tr>\n",
       "      <th>17890</th>\n",
       "      <td>hPtI7w1hshL</td>\n",
       "      <td>תכנון</td>\n",
       "      <td>פרויקט פינוי בינוי מתוכנן בסביבה</td>\n",
       "    </tr>\n",
       "  </tbody>\n",
       "</table>\n",
       "</div>"
      ],
      "text/plain": [
       "                id insight_category  \\\n",
       "17884  gU6gV1DFpep           מחירים   \n",
       "17887  hPtI7w1hshL            חינוך   \n",
       "17888  hPtI7w1hshL   ידידותי למשפחה   \n",
       "17889  hPtI7w1hshL             חיים   \n",
       "17890  hPtI7w1hshL            תכנון   \n",
       "\n",
       "                                    insight_value  \n",
       "17884  לנכס יש רישום מלא בטאבו, וזה לא מובן מאליו  \n",
       "17887        בית הספר הסמוך לדירה מדורג נמוך מאוד  \n",
       "17888                        סביבה מתאימה למשפחות  \n",
       "17889                            Good park access  \n",
       "17890            פרויקט פינוי בינוי מתוכנן בסביבה  "
      ]
     },
     "execution_count": 33,
     "metadata": {},
     "output_type": "execute_result"
    }
   ],
   "source": [
    "insight.tail()"
   ]
  },
  {
   "cell_type": "code",
   "execution_count": 34,
   "id": "1a7d5a11",
   "metadata": {
    "id": "1a7d5a11",
    "outputId": "6fa762fb-68bb-4902-c3a3-7b5d5a4e7c47"
   },
   "outputs": [
    {
     "data": {
      "image/png": "[encoded data removed]",
      "text/plain": [
       "<Figure size 800x800 with 1 Axes>"
      ]
     },
     "metadata": {},
     "output_type": "display_data"
    }
   ],
   "source": [
    "insight_cnt = insight.insight_category.value_counts()\n",
    "insight_cnt.index = [ins[::-1] for ins in insight_cnt.index]\n",
    "insight_cnt = insight_cnt.sort_values(ascending=False)\n",
    "\n",
    "plt.figure(figsize=(8, 8))\n",
    "plt.pie(insight_cnt, labels=insight_cnt.index, autopct='%1.1f%%', startangle=140, colors=plt.cm.Set3.colors)\n",
    "plt.title('Insights')\n",
    "plt.axis('equal')\n",
    "plt.show()"
   ]
  },
  {
   "cell_type": "markdown",
   "id": "8c9595d5",
   "metadata": {
    "id": "8c9595d5"
   },
   "source": [
    "## Working on Tags"
   ]
  },
  {
   "cell_type": "code",
   "execution_count": 35,
   "id": "b81e9314",
   "metadata": {
    "id": "b81e9314",
    "outputId": "e426601c-ad2d-4a09-c368-c419b522b142"
   },
   "outputs": [
    {
     "data": {
      "text/plain": [
       "array(['דירוג בתי ספר', 'התאמה לחילונים', 'התאמה לדתיים', 'ביטחון',\n",
       "       'קירבה לפארקים', 'רחוב שקט', 'קירבה לפארק כלבים', 'התאמה למשפחות',\n",
       "       'lightRail', 'commute'], dtype=object)"
      ]
     },
     "execution_count": 35,
     "metadata": {},
     "output_type": "execute_result"
    }
   ],
   "source": [
    "tags.tag_category.unique()"
   ]
  },
  {
   "cell_type": "code",
   "execution_count": 36,
   "id": "b2825873",
   "metadata": {
    "id": "b2825873"
   },
   "outputs": [],
   "source": [
    "d = {\n",
    "    \"lightRail\":\"קירבה לרכבת קלה\",\n",
    "    \"commute\":\"נגישות תחבורה ציבורית\"\n",
    "}\n",
    "tags.tag_category = tags.tag_category.replace(d)"
   ]
  },
  {
   "cell_type": "code",
   "execution_count": 37,
   "id": "5df459ab",
   "metadata": {
    "id": "5df459ab",
    "outputId": "dbe93acc-04ec-4f4a-a3bb-4fd0b3c1b33b"
   },
   "outputs": [
    {
     "data": {
      "text/plain": [
       "array(['דירוג בתי ספר', 'התאמה לחילונים', 'התאמה לדתיים', 'ביטחון',\n",
       "       'קירבה לפארקים', 'רחוב שקט', 'קירבה לפארק כלבים', 'התאמה למשפחות',\n",
       "       'קירבה לרכבת קלה', 'נגישות תחבורה ציבורית'], dtype=object)"
      ]
     },
     "execution_count": 37,
     "metadata": {},
     "output_type": "execute_result"
    }
   ],
   "source": [
    "tags.tag_category.unique()"
   ]
  },
  {
   "cell_type": "code",
   "execution_count": 38,
   "id": "cc4868b6",
   "metadata": {
    "id": "cc4868b6",
    "outputId": "3bdbd4d1-eacf-4bd9-e1b1-57ed574d098e"
   },
   "outputs": [
    {
     "data": {
      "text/plain": [
       "array([ 0.,  1., nan,  5.,  7.,  2.,  3.,  4.])"
      ]
     },
     "execution_count": 38,
     "metadata": {},
     "output_type": "execute_result"
    }
   ],
   "source": [
    "tags.tag_value.unique()"
   ]
  },
  {
   "cell_type": "code",
   "execution_count": 39,
   "id": "0674eff2",
   "metadata": {
    "id": "0674eff2",
    "outputId": "f8b3135d-db8e-4af2-b828-6d502ad6040f"
   },
   "outputs": [
    {
     "data": {
      "text/plain": [
       "67126"
      ]
     },
     "execution_count": 39,
     "metadata": {},
     "output_type": "execute_result"
    }
   ],
   "source": [
    "len(tags)"
   ]
  },
  {
   "cell_type": "code",
   "execution_count": 40,
   "id": "49a59cb4",
   "metadata": {
    "id": "49a59cb4",
    "outputId": "bcaa7b9d-1fa4-493a-f9bb-577c3d0a4f45"
   },
   "outputs": [
    {
     "name": "stdout",
     "output_type": "stream",
     "text": [
      "<class 'pandas.core.frame.DataFrame'>\n",
      "Int64Index: 67126 entries, 0 to 18949\n",
      "Data columns (total 3 columns):\n",
      " #   Column        Non-Null Count  Dtype  \n",
      "---  ------        --------------  -----  \n",
      " 0   id            67126 non-null  object \n",
      " 1   tag_category  67126 non-null  object \n",
      " 2   tag_value     60414 non-null  float64\n",
      "dtypes: float64(1), object(2)\n",
      "memory usage: 2.0+ MB\n"
     ]
    }
   ],
   "source": [
    "tags.info()"
   ]
  },
  {
   "cell_type": "code",
   "execution_count": 41,
   "id": "c10a301d",
   "metadata": {
    "id": "c10a301d",
    "outputId": "b7a2fb85-875f-4e14-fd14-d1af21f90496"
   },
   "outputs": [
    {
     "data": {
      "text/html": [
       "<div>\n",
       "<style scoped>\n",
       "    .dataframe tbody tr th:only-of-type {\n",
       "        vertical-align: middle;\n",
       "    }\n",
       "\n",
       "    .dataframe tbody tr th {\n",
       "        vertical-align: top;\n",
       "    }\n",
       "\n",
       "    .dataframe thead th {\n",
       "        text-align: right;\n",
       "    }\n",
       "</style>\n",
       "<table border=\"1\" class=\"dataframe\">\n",
       "  <thead>\n",
       "    <tr style=\"text-align: right;\">\n",
       "      <th></th>\n",
       "      <th>tag_value</th>\n",
       "    </tr>\n",
       "  </thead>\n",
       "  <tbody>\n",
       "    <tr>\n",
       "      <th>count</th>\n",
       "      <td>60414.000000</td>\n",
       "    </tr>\n",
       "    <tr>\n",
       "      <th>mean</th>\n",
       "      <td>3.015543</td>\n",
       "    </tr>\n",
       "    <tr>\n",
       "      <th>std</th>\n",
       "      <td>2.416659</td>\n",
       "    </tr>\n",
       "    <tr>\n",
       "      <th>min</th>\n",
       "      <td>0.000000</td>\n",
       "    </tr>\n",
       "    <tr>\n",
       "      <th>25%</th>\n",
       "      <td>1.000000</td>\n",
       "    </tr>\n",
       "    <tr>\n",
       "      <th>50%</th>\n",
       "      <td>3.000000</td>\n",
       "    </tr>\n",
       "    <tr>\n",
       "      <th>75%</th>\n",
       "      <td>5.000000</td>\n",
       "    </tr>\n",
       "    <tr>\n",
       "      <th>max</th>\n",
       "      <td>7.000000</td>\n",
       "    </tr>\n",
       "  </tbody>\n",
       "</table>\n",
       "</div>"
      ],
      "text/plain": [
       "          tag_value\n",
       "count  60414.000000\n",
       "mean       3.015543\n",
       "std        2.416659\n",
       "min        0.000000\n",
       "25%        1.000000\n",
       "50%        3.000000\n",
       "75%        5.000000\n",
       "max        7.000000"
      ]
     },
     "execution_count": 41,
     "metadata": {},
     "output_type": "execute_result"
    }
   ],
   "source": [
    "tags.describe()"
   ]
  },
  {
   "cell_type": "code",
   "execution_count": 42,
   "id": "fa740586",
   "metadata": {
    "id": "fa740586",
    "outputId": "c0f72547-b440-4ac7-d9d9-40f7f190aea4"
   },
   "outputs": [
    {
     "data": {
      "text/html": [
       "<div>\n",
       "<style scoped>\n",
       "    .dataframe tbody tr th:only-of-type {\n",
       "        vertical-align: middle;\n",
       "    }\n",
       "\n",
       "    .dataframe tbody tr th {\n",
       "        vertical-align: top;\n",
       "    }\n",
       "\n",
       "    .dataframe thead th {\n",
       "        text-align: right;\n",
       "    }\n",
       "</style>\n",
       "<table border=\"1\" class=\"dataframe\">\n",
       "  <thead>\n",
       "    <tr style=\"text-align: right;\">\n",
       "      <th>tag_value</th>\n",
       "      <th>0.0</th>\n",
       "      <th>1.0</th>\n",
       "      <th>2.0</th>\n",
       "      <th>3.0</th>\n",
       "      <th>4.0</th>\n",
       "      <th>5.0</th>\n",
       "      <th>7.0</th>\n",
       "    </tr>\n",
       "    <tr>\n",
       "      <th>tag_category</th>\n",
       "      <th></th>\n",
       "      <th></th>\n",
       "      <th></th>\n",
       "      <th></th>\n",
       "      <th></th>\n",
       "      <th></th>\n",
       "      <th></th>\n",
       "    </tr>\n",
       "  </thead>\n",
       "  <tbody>\n",
       "    <tr>\n",
       "      <th>דירוג בתי ספר</th>\n",
       "      <td>2785.0</td>\n",
       "      <td>1925.0</td>\n",
       "      <td>397.0</td>\n",
       "      <td>788.0</td>\n",
       "      <td>153.0</td>\n",
       "      <td>662.0</td>\n",
       "      <td>NaN</td>\n",
       "    </tr>\n",
       "    <tr>\n",
       "      <th>התאמה לדתיים</th>\n",
       "      <td>1572.0</td>\n",
       "      <td>1815.0</td>\n",
       "      <td>200.0</td>\n",
       "      <td>559.0</td>\n",
       "      <td>52.0</td>\n",
       "      <td>2512.0</td>\n",
       "      <td>NaN</td>\n",
       "    </tr>\n",
       "    <tr>\n",
       "      <th>התאמה לחילונים</th>\n",
       "      <td>1826.0</td>\n",
       "      <td>1832.0</td>\n",
       "      <td>480.0</td>\n",
       "      <td>1140.0</td>\n",
       "      <td>272.0</td>\n",
       "      <td>1160.0</td>\n",
       "      <td>NaN</td>\n",
       "    </tr>\n",
       "    <tr>\n",
       "      <th>התאמה למשפחות</th>\n",
       "      <td>1535.0</td>\n",
       "      <td>1860.0</td>\n",
       "      <td>1421.0</td>\n",
       "      <td>1041.0</td>\n",
       "      <td>NaN</td>\n",
       "      <td>854.0</td>\n",
       "      <td>NaN</td>\n",
       "    </tr>\n",
       "    <tr>\n",
       "      <th>נגישות תחבורה ציבורית</th>\n",
       "      <td>NaN</td>\n",
       "      <td>NaN</td>\n",
       "      <td>NaN</td>\n",
       "      <td>NaN</td>\n",
       "      <td>NaN</td>\n",
       "      <td>NaN</td>\n",
       "      <td>6709.0</td>\n",
       "    </tr>\n",
       "    <tr>\n",
       "      <th>קירבה לפארק כלבים</th>\n",
       "      <td>1726.0</td>\n",
       "      <td>NaN</td>\n",
       "      <td>NaN</td>\n",
       "      <td>NaN</td>\n",
       "      <td>NaN</td>\n",
       "      <td>4983.0</td>\n",
       "      <td>NaN</td>\n",
       "    </tr>\n",
       "    <tr>\n",
       "      <th>קירבה לפארקים</th>\n",
       "      <td>1922.0</td>\n",
       "      <td>2077.0</td>\n",
       "      <td>1190.0</td>\n",
       "      <td>811.0</td>\n",
       "      <td>164.0</td>\n",
       "      <td>547.0</td>\n",
       "      <td>NaN</td>\n",
       "    </tr>\n",
       "    <tr>\n",
       "      <th>קירבה לרכבת קלה</th>\n",
       "      <td>524.0</td>\n",
       "      <td>797.0</td>\n",
       "      <td>845.0</td>\n",
       "      <td>109.0</td>\n",
       "      <td>NaN</td>\n",
       "      <td>4436.0</td>\n",
       "      <td>NaN</td>\n",
       "    </tr>\n",
       "    <tr>\n",
       "      <th>רחוב שקט</th>\n",
       "      <td>1318.0</td>\n",
       "      <td>265.0</td>\n",
       "      <td>478.0</td>\n",
       "      <td>173.0</td>\n",
       "      <td>NaN</td>\n",
       "      <td>4476.0</td>\n",
       "      <td>NaN</td>\n",
       "    </tr>\n",
       "  </tbody>\n",
       "</table>\n",
       "</div>"
      ],
      "text/plain": [
       "tag_value                 0.0     1.0     2.0     3.0    4.0     5.0     7.0\n",
       "tag_category                                                                \n",
       "דירוג בתי ספר          2785.0  1925.0   397.0   788.0  153.0   662.0     NaN\n",
       "התאמה לדתיים           1572.0  1815.0   200.0   559.0   52.0  2512.0     NaN\n",
       "התאמה לחילונים         1826.0  1832.0   480.0  1140.0  272.0  1160.0     NaN\n",
       "התאמה למשפחות          1535.0  1860.0  1421.0  1041.0    NaN   854.0     NaN\n",
       "נגישות תחבורה ציבורית     NaN     NaN     NaN     NaN    NaN     NaN  6709.0\n",
       "קירבה לפארק כלבים      1726.0     NaN     NaN     NaN    NaN  4983.0     NaN\n",
       "קירבה לפארקים          1922.0  2077.0  1190.0   811.0  164.0   547.0     NaN\n",
       "קירבה לרכבת קלה         524.0   797.0   845.0   109.0    NaN  4436.0     NaN\n",
       "רחוב שקט               1318.0   265.0   478.0   173.0    NaN  4476.0     NaN"
      ]
     },
     "execution_count": 42,
     "metadata": {},
     "output_type": "execute_result"
    }
   ],
   "source": [
    "count_per_category = tags.groupby(['tag_category', 'tag_value'])['id'].nunique().reset_index(name='count')\n",
    "count_per_category_pivot = count_per_category.pivot_table(index='tag_category', columns='tag_value', values=tags.columns[2])\n",
    "count_per_category_pivot"
   ]
  },
  {
   "cell_type": "code",
   "execution_count": 43,
   "id": "2e844855",
   "metadata": {
    "id": "2e844855",
    "outputId": "c3302800-36a3-4c45-c732-dbb20e8357ad"
   },
   "outputs": [
    {
     "data": {
      "image/png": "[encoded data removed]",
      "text/plain": [
       "<Figure size 1000x600 with 2 Axes>"
      ]
     },
     "metadata": {},
     "output_type": "display_data"
    }
   ],
   "source": [
    "count_per_category_pivot.index = [tag[::-1] for tag in count_per_category_pivot.index]\n",
    "\n",
    "plt.figure(figsize=(10, 6))\n",
    "sns.heatmap(count_per_category_pivot, cmap='RdBu_r', annot=True, fmt=\".0f\", cbar_kws={'label': 'Count'})\n",
    "plt.title('Heatmap of Tag Categories and Values')\n",
    "plt.xlabel('Tag Value')\n",
    "plt.ylabel('Tag Category')\n",
    "plt.show()"
   ]
  },
  {
   "cell_type": "code",
   "execution_count": 44,
   "id": "9bc610fb",
   "metadata": {
    "id": "9bc610fb",
    "outputId": "b07c7651-22e8-4473-e158-888742a58459"
   },
   "outputs": [
    {
     "name": "stdout",
     "output_type": "stream",
     "text": [
      "67126\n"
     ]
    }
   ],
   "source": [
    "print(len(tags))"
   ]
  },
  {
   "cell_type": "code",
   "execution_count": 45,
   "id": "8e6b8ec0",
   "metadata": {
    "id": "8e6b8ec0"
   },
   "outputs": [],
   "source": [
    "# getting indices without certain values that are most commonly null\n",
    "slices = np.where(\n",
    "    ~(\n",
    "        (tags.tag_category.str.contains(\"נגישות תחבורה ציבורית|קירבה לפארק כלבים|ביטחון\"))|\n",
    "        (tags.tag_value == 4) |\n",
    "        (tags.tag_value == 7)\n",
    "    )\n",
    ")"
   ]
  },
  {
   "cell_type": "code",
   "execution_count": 46,
   "id": "0a9b2544",
   "metadata": {
    "id": "0a9b2544"
   },
   "outputs": [],
   "source": [
    "tags_new = tags.iloc[slices]"
   ]
  },
  {
   "cell_type": "code",
   "execution_count": 47,
   "id": "5f07fc6a",
   "metadata": {
    "id": "5f07fc6a",
    "outputId": "6bebb110-707f-4859-a3bb-186e5b3fd331"
   },
   "outputs": [
    {
     "data": {
      "text/plain": [
       "46351"
      ]
     },
     "execution_count": 47,
     "metadata": {},
     "output_type": "execute_result"
    }
   ],
   "source": [
    "len(tags_new)"
   ]
  },
  {
   "cell_type": "code",
   "execution_count": 48,
   "id": "420a2f54",
   "metadata": {
    "id": "420a2f54",
    "outputId": "c91ab27f-f430-404a-b331-3f71da9e2d72"
   },
   "outputs": [
    {
     "data": {
      "text/html": [
       "<div>\n",
       "<style scoped>\n",
       "    .dataframe tbody tr th:only-of-type {\n",
       "        vertical-align: middle;\n",
       "    }\n",
       "\n",
       "    .dataframe tbody tr th {\n",
       "        vertical-align: top;\n",
       "    }\n",
       "\n",
       "    .dataframe thead th {\n",
       "        text-align: right;\n",
       "    }\n",
       "</style>\n",
       "<table border=\"1\" class=\"dataframe\">\n",
       "  <thead>\n",
       "    <tr style=\"text-align: right;\">\n",
       "      <th></th>\n",
       "      <th>id</th>\n",
       "      <th>tag_category</th>\n",
       "      <th>tag_value</th>\n",
       "    </tr>\n",
       "  </thead>\n",
       "  <tbody>\n",
       "    <tr>\n",
       "      <th>0</th>\n",
       "      <td>gBxSkU3fU6h</td>\n",
       "      <td>דירוג בתי ספר</td>\n",
       "      <td>0.0</td>\n",
       "    </tr>\n",
       "    <tr>\n",
       "      <th>1</th>\n",
       "      <td>gBxSkU3fU6h</td>\n",
       "      <td>התאמה לחילונים</td>\n",
       "      <td>0.0</td>\n",
       "    </tr>\n",
       "    <tr>\n",
       "      <th>2</th>\n",
       "      <td>gBxSkU3fU6h</td>\n",
       "      <td>התאמה לדתיים</td>\n",
       "      <td>1.0</td>\n",
       "    </tr>\n",
       "    <tr>\n",
       "      <th>4</th>\n",
       "      <td>gBxSkU3fU6h</td>\n",
       "      <td>קירבה לפארקים</td>\n",
       "      <td>1.0</td>\n",
       "    </tr>\n",
       "    <tr>\n",
       "      <th>5</th>\n",
       "      <td>gBxSkU3fU6h</td>\n",
       "      <td>רחוב שקט</td>\n",
       "      <td>0.0</td>\n",
       "    </tr>\n",
       "  </tbody>\n",
       "</table>\n",
       "</div>"
      ],
      "text/plain": [
       "            id    tag_category  tag_value\n",
       "0  gBxSkU3fU6h   דירוג בתי ספר        0.0\n",
       "1  gBxSkU3fU6h  התאמה לחילונים        0.0\n",
       "2  gBxSkU3fU6h    התאמה לדתיים        1.0\n",
       "4  gBxSkU3fU6h   קירבה לפארקים        1.0\n",
       "5  gBxSkU3fU6h        רחוב שקט        0.0"
      ]
     },
     "execution_count": 48,
     "metadata": {},
     "output_type": "execute_result"
    }
   ],
   "source": [
    "tags_new.head()"
   ]
  },
  {
   "cell_type": "code",
   "execution_count": 49,
   "id": "8bf5d1bf",
   "metadata": {
    "id": "8bf5d1bf"
   },
   "outputs": [],
   "source": [
    "tags_new = pd.DataFrame(tags_new)\n",
    "\n",
    "def fill_up(x):\n",
    "    if x<4:\n",
    "        x+=1\n",
    "    return x\n",
    "\n",
    "tags_new.tag_value =  tags_new.tag_value.apply(fill_up)"
   ]
  },
  {
   "cell_type": "code",
   "execution_count": 50,
   "id": "8d9a9ee8",
   "metadata": {
    "id": "8d9a9ee8",
    "outputId": "05872090-dbaa-4804-fc38-a62d9539cbbf"
   },
   "outputs": [
    {
     "data": {
      "text/html": [
       "<div>\n",
       "<style scoped>\n",
       "    .dataframe tbody tr th:only-of-type {\n",
       "        vertical-align: middle;\n",
       "    }\n",
       "\n",
       "    .dataframe tbody tr th {\n",
       "        vertical-align: top;\n",
       "    }\n",
       "\n",
       "    .dataframe thead th {\n",
       "        text-align: right;\n",
       "    }\n",
       "</style>\n",
       "<table border=\"1\" class=\"dataframe\">\n",
       "  <thead>\n",
       "    <tr style=\"text-align: right;\">\n",
       "      <th></th>\n",
       "      <th>id</th>\n",
       "      <th>tag_category</th>\n",
       "      <th>tag_value</th>\n",
       "    </tr>\n",
       "  </thead>\n",
       "  <tbody>\n",
       "    <tr>\n",
       "      <th>0</th>\n",
       "      <td>gBxSkU3fU6h</td>\n",
       "      <td>דירוג בתי ספר</td>\n",
       "      <td>1.0</td>\n",
       "    </tr>\n",
       "    <tr>\n",
       "      <th>1</th>\n",
       "      <td>gBxSkU3fU6h</td>\n",
       "      <td>התאמה לחילונים</td>\n",
       "      <td>1.0</td>\n",
       "    </tr>\n",
       "    <tr>\n",
       "      <th>2</th>\n",
       "      <td>gBxSkU3fU6h</td>\n",
       "      <td>התאמה לדתיים</td>\n",
       "      <td>2.0</td>\n",
       "    </tr>\n",
       "    <tr>\n",
       "      <th>4</th>\n",
       "      <td>gBxSkU3fU6h</td>\n",
       "      <td>קירבה לפארקים</td>\n",
       "      <td>2.0</td>\n",
       "    </tr>\n",
       "    <tr>\n",
       "      <th>5</th>\n",
       "      <td>gBxSkU3fU6h</td>\n",
       "      <td>רחוב שקט</td>\n",
       "      <td>1.0</td>\n",
       "    </tr>\n",
       "  </tbody>\n",
       "</table>\n",
       "</div>"
      ],
      "text/plain": [
       "            id    tag_category  tag_value\n",
       "0  gBxSkU3fU6h   דירוג בתי ספר        1.0\n",
       "1  gBxSkU3fU6h  התאמה לחילונים        1.0\n",
       "2  gBxSkU3fU6h    התאמה לדתיים        2.0\n",
       "4  gBxSkU3fU6h   קירבה לפארקים        2.0\n",
       "5  gBxSkU3fU6h        רחוב שקט        1.0"
      ]
     },
     "execution_count": 50,
     "metadata": {},
     "output_type": "execute_result"
    }
   ],
   "source": [
    "tags_new.head()"
   ]
  },
  {
   "cell_type": "code",
   "execution_count": 51,
   "id": "3f4df092",
   "metadata": {
    "id": "3f4df092",
    "outputId": "80fc2a07-a9fd-4ef8-e8d8-cecb8c0cf272"
   },
   "outputs": [
    {
     "data": {
      "text/plain": [
       "array([1., 2., 5., 3., 4.])"
      ]
     },
     "execution_count": 51,
     "metadata": {},
     "output_type": "execute_result"
    }
   ],
   "source": [
    "tags_new.tag_value.unique()"
   ]
  },
  {
   "cell_type": "code",
   "execution_count": 52,
   "id": "92b6d9c3",
   "metadata": {
    "id": "92b6d9c3",
    "outputId": "403799fb-a2b3-43f9-8284-06dc5d5bca25"
   },
   "outputs": [
    {
     "data": {
      "text/plain": [
       "id              0\n",
       "tag_category    0\n",
       "tag_value       0\n",
       "dtype: int64"
      ]
     },
     "execution_count": 52,
     "metadata": {},
     "output_type": "execute_result"
    }
   ],
   "source": [
    " tags_new.isna().sum()"
   ]
  },
  {
   "cell_type": "code",
   "execution_count": 53,
   "id": "aeba707a",
   "metadata": {
    "id": "aeba707a",
    "outputId": "fd2b5481-f9c6-4c4e-9950-0b0bc6d22d08"
   },
   "outputs": [
    {
     "data": {
      "text/html": [
       "<div>\n",
       "<style scoped>\n",
       "    .dataframe tbody tr th:only-of-type {\n",
       "        vertical-align: middle;\n",
       "    }\n",
       "\n",
       "    .dataframe tbody tr th {\n",
       "        vertical-align: top;\n",
       "    }\n",
       "\n",
       "    .dataframe thead th {\n",
       "        text-align: right;\n",
       "    }\n",
       "</style>\n",
       "<table border=\"1\" class=\"dataframe\">\n",
       "  <thead>\n",
       "    <tr style=\"text-align: right;\">\n",
       "      <th></th>\n",
       "      <th>tag_value</th>\n",
       "    </tr>\n",
       "  </thead>\n",
       "  <tbody>\n",
       "    <tr>\n",
       "      <th>count</th>\n",
       "      <td>46351.000000</td>\n",
       "    </tr>\n",
       "    <tr>\n",
       "      <th>mean</th>\n",
       "      <td>3.007918</td>\n",
       "    </tr>\n",
       "    <tr>\n",
       "      <th>std</th>\n",
       "      <td>1.607548</td>\n",
       "    </tr>\n",
       "    <tr>\n",
       "      <th>min</th>\n",
       "      <td>1.000000</td>\n",
       "    </tr>\n",
       "    <tr>\n",
       "      <th>25%</th>\n",
       "      <td>2.000000</td>\n",
       "    </tr>\n",
       "    <tr>\n",
       "      <th>50%</th>\n",
       "      <td>3.000000</td>\n",
       "    </tr>\n",
       "    <tr>\n",
       "      <th>75%</th>\n",
       "      <td>5.000000</td>\n",
       "    </tr>\n",
       "    <tr>\n",
       "      <th>max</th>\n",
       "      <td>5.000000</td>\n",
       "    </tr>\n",
       "  </tbody>\n",
       "</table>\n",
       "</div>"
      ],
      "text/plain": [
       "          tag_value\n",
       "count  46351.000000\n",
       "mean       3.007918\n",
       "std        1.607548\n",
       "min        1.000000\n",
       "25%        2.000000\n",
       "50%        3.000000\n",
       "75%        5.000000\n",
       "max        5.000000"
      ]
     },
     "execution_count": 53,
     "metadata": {},
     "output_type": "execute_result"
    }
   ],
   "source": [
    "tags_new.describe()"
   ]
  },
  {
   "cell_type": "code",
   "execution_count": 54,
   "id": "db039b2e",
   "metadata": {
    "id": "db039b2e",
    "outputId": "9866f4ce-3c0b-4dbf-9fdd-15a620dfe4b2"
   },
   "outputs": [
    {
     "data": {
      "text/plain": [
       "tag_category\n",
       "דירוג בתי ספר      6560\n",
       "התאמה לדתיים       6661\n",
       "התאמה לחילונים     6441\n",
       "התאמה למשפחות      6714\n",
       "קירבה לפארקים      6550\n",
       "קירבה לרכבת קלה    6712\n",
       "רחוב שקט           6713\n",
       "Name: tag_value, dtype: int64"
      ]
     },
     "execution_count": 54,
     "metadata": {},
     "output_type": "execute_result"
    }
   ],
   "source": [
    "tags_new.groupby(\"tag_category\")[\"tag_value\"].count()"
   ]
  },
  {
   "cell_type": "code",
   "execution_count": 55,
   "id": "1d622b43",
   "metadata": {
    "id": "1d622b43",
    "outputId": "88368d28-edf0-4c04-ac3f-01fbff75e499"
   },
   "outputs": [
    {
     "data": {
      "text/html": [
       "<div>\n",
       "<style scoped>\n",
       "    .dataframe tbody tr th:only-of-type {\n",
       "        vertical-align: middle;\n",
       "    }\n",
       "\n",
       "    .dataframe tbody tr th {\n",
       "        vertical-align: top;\n",
       "    }\n",
       "\n",
       "    .dataframe thead th {\n",
       "        text-align: right;\n",
       "    }\n",
       "</style>\n",
       "<table border=\"1\" class=\"dataframe\">\n",
       "  <thead>\n",
       "    <tr style=\"text-align: right;\">\n",
       "      <th>tag_value</th>\n",
       "      <th>1.0</th>\n",
       "      <th>2.0</th>\n",
       "      <th>3.0</th>\n",
       "      <th>4.0</th>\n",
       "      <th>5.0</th>\n",
       "    </tr>\n",
       "    <tr>\n",
       "      <th>tag_category</th>\n",
       "      <th></th>\n",
       "      <th></th>\n",
       "      <th></th>\n",
       "      <th></th>\n",
       "      <th></th>\n",
       "    </tr>\n",
       "  </thead>\n",
       "  <tbody>\n",
       "    <tr>\n",
       "      <th>דירוג בתי ספר</th>\n",
       "      <td>2785.0</td>\n",
       "      <td>1925.0</td>\n",
       "      <td>397.0</td>\n",
       "      <td>788.0</td>\n",
       "      <td>662.0</td>\n",
       "    </tr>\n",
       "    <tr>\n",
       "      <th>התאמה לדתיים</th>\n",
       "      <td>1572.0</td>\n",
       "      <td>1815.0</td>\n",
       "      <td>200.0</td>\n",
       "      <td>559.0</td>\n",
       "      <td>2512.0</td>\n",
       "    </tr>\n",
       "    <tr>\n",
       "      <th>התאמה לחילונים</th>\n",
       "      <td>1826.0</td>\n",
       "      <td>1832.0</td>\n",
       "      <td>480.0</td>\n",
       "      <td>1140.0</td>\n",
       "      <td>1160.0</td>\n",
       "    </tr>\n",
       "    <tr>\n",
       "      <th>התאמה למשפחות</th>\n",
       "      <td>1535.0</td>\n",
       "      <td>1860.0</td>\n",
       "      <td>1421.0</td>\n",
       "      <td>1041.0</td>\n",
       "      <td>854.0</td>\n",
       "    </tr>\n",
       "    <tr>\n",
       "      <th>קירבה לפארקים</th>\n",
       "      <td>1922.0</td>\n",
       "      <td>2077.0</td>\n",
       "      <td>1190.0</td>\n",
       "      <td>811.0</td>\n",
       "      <td>547.0</td>\n",
       "    </tr>\n",
       "    <tr>\n",
       "      <th>קירבה לרכבת קלה</th>\n",
       "      <td>524.0</td>\n",
       "      <td>797.0</td>\n",
       "      <td>845.0</td>\n",
       "      <td>109.0</td>\n",
       "      <td>4436.0</td>\n",
       "    </tr>\n",
       "    <tr>\n",
       "      <th>רחוב שקט</th>\n",
       "      <td>1318.0</td>\n",
       "      <td>265.0</td>\n",
       "      <td>478.0</td>\n",
       "      <td>173.0</td>\n",
       "      <td>4476.0</td>\n",
       "    </tr>\n",
       "  </tbody>\n",
       "</table>\n",
       "</div>"
      ],
      "text/plain": [
       "tag_value           1.0     2.0     3.0     4.0     5.0\n",
       "tag_category                                           \n",
       "דירוג בתי ספר    2785.0  1925.0   397.0   788.0   662.0\n",
       "התאמה לדתיים     1572.0  1815.0   200.0   559.0  2512.0\n",
       "התאמה לחילונים   1826.0  1832.0   480.0  1140.0  1160.0\n",
       "התאמה למשפחות    1535.0  1860.0  1421.0  1041.0   854.0\n",
       "קירבה לפארקים    1922.0  2077.0  1190.0   811.0   547.0\n",
       "קירבה לרכבת קלה   524.0   797.0   845.0   109.0  4436.0\n",
       "רחוב שקט         1318.0   265.0   478.0   173.0  4476.0"
      ]
     },
     "execution_count": 55,
     "metadata": {},
     "output_type": "execute_result"
    }
   ],
   "source": [
    "count_per_category = tags_new.groupby(['tag_category', 'tag_value'])['id'].nunique().reset_index(name='count')\n",
    "count_per_category_pivot = count_per_category.pivot_table(index='tag_category', columns='tag_value', values=tags_new.columns[2])\n",
    "count_per_category_pivot"
   ]
  },
  {
   "cell_type": "code",
   "execution_count": 56,
   "id": "5de11e8b",
   "metadata": {
    "id": "5de11e8b",
    "outputId": "2856f831-f1b2-4a7a-d447-bc7e683f0701"
   },
   "outputs": [
    {
     "data": {
      "image/png": "[encoded data removed]",
      "text/plain": [
       "<Figure size 1000x600 with 2 Axes>"
      ]
     },
     "metadata": {},
     "output_type": "display_data"
    }
   ],
   "source": [
    "count_per_category_pivot.index = [tag[::-1] for tag in count_per_category_pivot.index]\n",
    "\n",
    "plt.figure(figsize=(10, 6))\n",
    "sns.heatmap(count_per_category_pivot, cmap='RdBu_r', annot=True, fmt=\".0f\", cbar_kws={'label': 'Count'})\n",
    "plt.title('Heatmap of Tag Categories and Values')\n",
    "plt.xlabel('Tag Value')\n",
    "plt.ylabel('Tag Category')\n",
    "plt.show()"
   ]
  },
  {
   "cell_type": "code",
   "execution_count": 57,
   "id": "54f37c46",
   "metadata": {
    "id": "54f37c46",
    "outputId": "f87101db-f6ba-43fd-d43e-65c39194b754"
   },
   "outputs": [
    {
     "name": "stdout",
     "output_type": "stream",
     "text": [
      "<class 'pandas.core.frame.DataFrame'>\n",
      "Int64Index: 46351 entries, 0 to 18948\n",
      "Data columns (total 3 columns):\n",
      " #   Column        Non-Null Count  Dtype  \n",
      "---  ------        --------------  -----  \n",
      " 0   id            46351 non-null  object \n",
      " 1   tag_category  46351 non-null  object \n",
      " 2   tag_value     46351 non-null  float64\n",
      "dtypes: float64(1), object(2)\n",
      "memory usage: 1.4+ MB\n"
     ]
    }
   ],
   "source": [
    "tags_new.info()"
   ]
  },
  {
   "cell_type": "code",
   "execution_count": 58,
   "id": "96b000f4",
   "metadata": {
    "id": "96b000f4"
   },
   "outputs": [],
   "source": [
    "tags_cnt = tags_new.groupby(\"id\")[\"id\"].count().reset_index(name=\"cnt\")"
   ]
  },
  {
   "cell_type": "code",
   "execution_count": 59,
   "id": "b7ec558d",
   "metadata": {
    "id": "b7ec558d",
    "outputId": "1508296a-79fe-4283-af30-e3b7e7ab8e56"
   },
   "outputs": [
    {
     "data": {
      "text/html": [
       "<div>\n",
       "<style scoped>\n",
       "    .dataframe tbody tr th:only-of-type {\n",
       "        vertical-align: middle;\n",
       "    }\n",
       "\n",
       "    .dataframe tbody tr th {\n",
       "        vertical-align: top;\n",
       "    }\n",
       "\n",
       "    .dataframe thead th {\n",
       "        text-align: right;\n",
       "    }\n",
       "</style>\n",
       "<table border=\"1\" class=\"dataframe\">\n",
       "  <thead>\n",
       "    <tr style=\"text-align: right;\">\n",
       "      <th></th>\n",
       "      <th>id</th>\n",
       "      <th>cnt</th>\n",
       "    </tr>\n",
       "  </thead>\n",
       "  <tbody>\n",
       "    <tr>\n",
       "      <th>0</th>\n",
       "      <td>01gY5jZdvnx</td>\n",
       "      <td>7</td>\n",
       "    </tr>\n",
       "    <tr>\n",
       "      <th>1</th>\n",
       "      <td>05qEzmeV3i5</td>\n",
       "      <td>7</td>\n",
       "    </tr>\n",
       "    <tr>\n",
       "      <th>2</th>\n",
       "      <td>06DrocbQ1Vc</td>\n",
       "      <td>7</td>\n",
       "    </tr>\n",
       "    <tr>\n",
       "      <th>3</th>\n",
       "      <td>07kcgafHGb5</td>\n",
       "      <td>7</td>\n",
       "    </tr>\n",
       "    <tr>\n",
       "      <th>4</th>\n",
       "      <td>0920RrHInWb</td>\n",
       "      <td>7</td>\n",
       "    </tr>\n",
       "    <tr>\n",
       "      <th>...</th>\n",
       "      <td>...</td>\n",
       "      <td>...</td>\n",
       "    </tr>\n",
       "    <tr>\n",
       "      <th>6704</th>\n",
       "      <td>zrYhBELIGYW</td>\n",
       "      <td>7</td>\n",
       "    </tr>\n",
       "    <tr>\n",
       "      <th>6705</th>\n",
       "      <td>zrjA1hMhXUn</td>\n",
       "      <td>7</td>\n",
       "    </tr>\n",
       "    <tr>\n",
       "      <th>6706</th>\n",
       "      <td>zs6gMHptcPg</td>\n",
       "      <td>20</td>\n",
       "    </tr>\n",
       "    <tr>\n",
       "      <th>6707</th>\n",
       "      <td>zwxdRaD0Y4K</td>\n",
       "      <td>7</td>\n",
       "    </tr>\n",
       "    <tr>\n",
       "      <th>6708</th>\n",
       "      <td>zx6NxRwnHxm</td>\n",
       "      <td>7</td>\n",
       "    </tr>\n",
       "  </tbody>\n",
       "</table>\n",
       "<p>6709 rows × 2 columns</p>\n",
       "</div>"
      ],
      "text/plain": [
       "               id  cnt\n",
       "0     01gY5jZdvnx    7\n",
       "1     05qEzmeV3i5    7\n",
       "2     06DrocbQ1Vc    7\n",
       "3     07kcgafHGb5    7\n",
       "4     0920RrHInWb    7\n",
       "...           ...  ...\n",
       "6704  zrYhBELIGYW    7\n",
       "6705  zrjA1hMhXUn    7\n",
       "6706  zs6gMHptcPg   20\n",
       "6707  zwxdRaD0Y4K    7\n",
       "6708  zx6NxRwnHxm    7\n",
       "\n",
       "[6709 rows x 2 columns]"
      ]
     },
     "execution_count": 59,
     "metadata": {},
     "output_type": "execute_result"
    }
   ],
   "source": [
    "tags_cnt"
   ]
  },
  {
   "cell_type": "code",
   "execution_count": 60,
   "id": "e46b4994",
   "metadata": {
    "id": "e46b4994",
    "outputId": "ab38ee04-09cf-4bf9-9151-131eba9a4ce1"
   },
   "outputs": [
    {
     "data": {
      "text/html": [
       "<div>\n",
       "<style scoped>\n",
       "    .dataframe tbody tr th:only-of-type {\n",
       "        vertical-align: middle;\n",
       "    }\n",
       "\n",
       "    .dataframe tbody tr th {\n",
       "        vertical-align: top;\n",
       "    }\n",
       "\n",
       "    .dataframe thead th {\n",
       "        text-align: right;\n",
       "    }\n",
       "</style>\n",
       "<table border=\"1\" class=\"dataframe\">\n",
       "  <thead>\n",
       "    <tr style=\"text-align: right;\">\n",
       "      <th></th>\n",
       "      <th>id</th>\n",
       "      <th>cnt</th>\n",
       "    </tr>\n",
       "  </thead>\n",
       "  <tbody>\n",
       "    <tr>\n",
       "      <th>841</th>\n",
       "      <td>bfRH0X1q9YO</td>\n",
       "      <td>8</td>\n",
       "    </tr>\n",
       "    <tr>\n",
       "      <th>3568</th>\n",
       "      <td>g0umkhkigKb</td>\n",
       "      <td>13</td>\n",
       "    </tr>\n",
       "    <tr>\n",
       "      <th>5134</th>\n",
       "      <td>iaEelLnKjRE</td>\n",
       "      <td>9</td>\n",
       "    </tr>\n",
       "    <tr>\n",
       "      <th>6685</th>\n",
       "      <td>y5dN85u5KYU</td>\n",
       "      <td>14</td>\n",
       "    </tr>\n",
       "    <tr>\n",
       "      <th>6706</th>\n",
       "      <td>zs6gMHptcPg</td>\n",
       "      <td>20</td>\n",
       "    </tr>\n",
       "  </tbody>\n",
       "</table>\n",
       "</div>"
      ],
      "text/plain": [
       "               id  cnt\n",
       "841   bfRH0X1q9YO    8\n",
       "3568  g0umkhkigKb   13\n",
       "5134  iaEelLnKjRE    9\n",
       "6685  y5dN85u5KYU   14\n",
       "6706  zs6gMHptcPg   20"
      ]
     },
     "execution_count": 60,
     "metadata": {},
     "output_type": "execute_result"
    }
   ],
   "source": [
    "tags_cnt[tags_cnt[\"cnt\"]>7]"
   ]
  },
  {
   "cell_type": "code",
   "execution_count": 61,
   "id": "a5549f8c",
   "metadata": {
    "id": "a5549f8c",
    "outputId": "962a3ce7-c942-452a-e1a6-08b3ad2110b8"
   },
   "outputs": [
    {
     "data": {
      "text/html": [
       "<div>\n",
       "<style scoped>\n",
       "    .dataframe tbody tr th:only-of-type {\n",
       "        vertical-align: middle;\n",
       "    }\n",
       "\n",
       "    .dataframe tbody tr th {\n",
       "        vertical-align: top;\n",
       "    }\n",
       "\n",
       "    .dataframe thead th {\n",
       "        text-align: right;\n",
       "    }\n",
       "</style>\n",
       "<table border=\"1\" class=\"dataframe\">\n",
       "  <thead>\n",
       "    <tr style=\"text-align: right;\">\n",
       "      <th></th>\n",
       "      <th>id</th>\n",
       "      <th>cnt</th>\n",
       "    </tr>\n",
       "  </thead>\n",
       "  <tbody>\n",
       "    <tr>\n",
       "      <th>23</th>\n",
       "      <td>1MvbsnlybEM</td>\n",
       "      <td>6</td>\n",
       "    </tr>\n",
       "    <tr>\n",
       "      <th>58</th>\n",
       "      <td>4K5W8vhsdPr</td>\n",
       "      <td>6</td>\n",
       "    </tr>\n",
       "    <tr>\n",
       "      <th>97</th>\n",
       "      <td>7gTwtubhs0h</td>\n",
       "      <td>5</td>\n",
       "    </tr>\n",
       "    <tr>\n",
       "      <th>240</th>\n",
       "      <td>LT1m7FBJA9d</td>\n",
       "      <td>4</td>\n",
       "    </tr>\n",
       "    <tr>\n",
       "      <th>260</th>\n",
       "      <td>NBKwMKhOtN3</td>\n",
       "      <td>5</td>\n",
       "    </tr>\n",
       "    <tr>\n",
       "      <th>...</th>\n",
       "      <td>...</td>\n",
       "      <td>...</td>\n",
       "    </tr>\n",
       "    <tr>\n",
       "      <th>6583</th>\n",
       "      <td>pyyqVSxk15Q</td>\n",
       "      <td>5</td>\n",
       "    </tr>\n",
       "    <tr>\n",
       "      <th>6591</th>\n",
       "      <td>qa0Kpoj8RI7</td>\n",
       "      <td>5</td>\n",
       "    </tr>\n",
       "    <tr>\n",
       "      <th>6596</th>\n",
       "      <td>qtdJ7YKPBdB</td>\n",
       "      <td>5</td>\n",
       "    </tr>\n",
       "    <tr>\n",
       "      <th>6669</th>\n",
       "      <td>wBBBqE23aiL</td>\n",
       "      <td>6</td>\n",
       "    </tr>\n",
       "    <tr>\n",
       "      <th>6679</th>\n",
       "      <td>xEVjThnjxX0</td>\n",
       "      <td>6</td>\n",
       "    </tr>\n",
       "  </tbody>\n",
       "</table>\n",
       "<p>479 rows × 2 columns</p>\n",
       "</div>"
      ],
      "text/plain": [
       "               id  cnt\n",
       "23    1MvbsnlybEM    6\n",
       "58    4K5W8vhsdPr    6\n",
       "97    7gTwtubhs0h    5\n",
       "240   LT1m7FBJA9d    4\n",
       "260   NBKwMKhOtN3    5\n",
       "...           ...  ...\n",
       "6583  pyyqVSxk15Q    5\n",
       "6591  qa0Kpoj8RI7    5\n",
       "6596  qtdJ7YKPBdB    5\n",
       "6669  wBBBqE23aiL    6\n",
       "6679  xEVjThnjxX0    6\n",
       "\n",
       "[479 rows x 2 columns]"
      ]
     },
     "execution_count": 61,
     "metadata": {},
     "output_type": "execute_result"
    }
   ],
   "source": [
    "tags_cnt[tags_cnt[\"cnt\"]<7]"
   ]
  },
  {
   "cell_type": "code",
   "execution_count": 62,
   "id": "04c69845",
   "metadata": {
    "id": "04c69845",
    "outputId": "48f5ec00-7d91-454c-f8fd-f8ce5bf7a593"
   },
   "outputs": [
    {
     "data": {
      "image/png": "[encoded data removed]",
      "text/plain": [
       "<Figure size 1000x600 with 1 Axes>"
      ]
     },
     "metadata": {},
     "output_type": "display_data"
    }
   ],
   "source": [
    "plt.figure(figsize=(10, 6))\n",
    "sns.countplot(y='cnt', data=tags_cnt, palette='viridis')\n",
    "plt.title('Count of Each Category')\n",
    "plt.xlabel('Count')\n",
    "plt.ylabel('Category')\n",
    "plt.show()"
   ]
  },
  {
   "cell_type": "code",
   "execution_count": 63,
   "id": "0f81ca3a",
   "metadata": {
    "id": "0f81ca3a"
   },
   "outputs": [],
   "source": [
    "tags_cnt = tags_cnt[tags_cnt.cnt == 7]"
   ]
  },
  {
   "cell_type": "code",
   "execution_count": 64,
   "id": "ad0d484f",
   "metadata": {
    "id": "ad0d484f",
    "outputId": "13a24d7f-b522-479e-fa1c-05b083c2f472"
   },
   "outputs": [
    {
     "data": {
      "text/html": [
       "<div>\n",
       "<style scoped>\n",
       "    .dataframe tbody tr th:only-of-type {\n",
       "        vertical-align: middle;\n",
       "    }\n",
       "\n",
       "    .dataframe tbody tr th {\n",
       "        vertical-align: top;\n",
       "    }\n",
       "\n",
       "    .dataframe thead th {\n",
       "        text-align: right;\n",
       "    }\n",
       "</style>\n",
       "<table border=\"1\" class=\"dataframe\">\n",
       "  <thead>\n",
       "    <tr style=\"text-align: right;\">\n",
       "      <th></th>\n",
       "      <th>id</th>\n",
       "      <th>cnt</th>\n",
       "    </tr>\n",
       "  </thead>\n",
       "  <tbody>\n",
       "    <tr>\n",
       "      <th>0</th>\n",
       "      <td>01gY5jZdvnx</td>\n",
       "      <td>7</td>\n",
       "    </tr>\n",
       "    <tr>\n",
       "      <th>1</th>\n",
       "      <td>05qEzmeV3i5</td>\n",
       "      <td>7</td>\n",
       "    </tr>\n",
       "    <tr>\n",
       "      <th>2</th>\n",
       "      <td>06DrocbQ1Vc</td>\n",
       "      <td>7</td>\n",
       "    </tr>\n",
       "    <tr>\n",
       "      <th>3</th>\n",
       "      <td>07kcgafHGb5</td>\n",
       "      <td>7</td>\n",
       "    </tr>\n",
       "    <tr>\n",
       "      <th>4</th>\n",
       "      <td>0920RrHInWb</td>\n",
       "      <td>7</td>\n",
       "    </tr>\n",
       "    <tr>\n",
       "      <th>...</th>\n",
       "      <td>...</td>\n",
       "      <td>...</td>\n",
       "    </tr>\n",
       "    <tr>\n",
       "      <th>6703</th>\n",
       "      <td>zXGrXxHoaAx</td>\n",
       "      <td>7</td>\n",
       "    </tr>\n",
       "    <tr>\n",
       "      <th>6704</th>\n",
       "      <td>zrYhBELIGYW</td>\n",
       "      <td>7</td>\n",
       "    </tr>\n",
       "    <tr>\n",
       "      <th>6705</th>\n",
       "      <td>zrjA1hMhXUn</td>\n",
       "      <td>7</td>\n",
       "    </tr>\n",
       "    <tr>\n",
       "      <th>6707</th>\n",
       "      <td>zwxdRaD0Y4K</td>\n",
       "      <td>7</td>\n",
       "    </tr>\n",
       "    <tr>\n",
       "      <th>6708</th>\n",
       "      <td>zx6NxRwnHxm</td>\n",
       "      <td>7</td>\n",
       "    </tr>\n",
       "  </tbody>\n",
       "</table>\n",
       "<p>6225 rows × 2 columns</p>\n",
       "</div>"
      ],
      "text/plain": [
       "               id  cnt\n",
       "0     01gY5jZdvnx    7\n",
       "1     05qEzmeV3i5    7\n",
       "2     06DrocbQ1Vc    7\n",
       "3     07kcgafHGb5    7\n",
       "4     0920RrHInWb    7\n",
       "...           ...  ...\n",
       "6703  zXGrXxHoaAx    7\n",
       "6704  zrYhBELIGYW    7\n",
       "6705  zrjA1hMhXUn    7\n",
       "6707  zwxdRaD0Y4K    7\n",
       "6708  zx6NxRwnHxm    7\n",
       "\n",
       "[6225 rows x 2 columns]"
      ]
     },
     "execution_count": 64,
     "metadata": {},
     "output_type": "execute_result"
    }
   ],
   "source": [
    "tags_cnt"
   ]
  },
  {
   "cell_type": "code",
   "execution_count": 65,
   "id": "1fd0a5aa",
   "metadata": {
    "id": "1fd0a5aa"
   },
   "outputs": [],
   "source": [
    "tags_new = tags_new.merge(\n",
    "    tags_cnt,\n",
    "    how=\"inner\",\n",
    "    on = \"id\"\n",
    ")[[\"id\",\"tag_category\",\"tag_value\"]]"
   ]
  },
  {
   "cell_type": "code",
   "execution_count": 66,
   "id": "ab2ac719",
   "metadata": {
    "id": "ab2ac719",
    "outputId": "97ba670b-8990-47c3-e30f-6f0c22145880"
   },
   "outputs": [
    {
     "data": {
      "text/html": [
       "<div>\n",
       "<style scoped>\n",
       "    .dataframe tbody tr th:only-of-type {\n",
       "        vertical-align: middle;\n",
       "    }\n",
       "\n",
       "    .dataframe tbody tr th {\n",
       "        vertical-align: top;\n",
       "    }\n",
       "\n",
       "    .dataframe thead th {\n",
       "        text-align: right;\n",
       "    }\n",
       "</style>\n",
       "<table border=\"1\" class=\"dataframe\">\n",
       "  <thead>\n",
       "    <tr style=\"text-align: right;\">\n",
       "      <th></th>\n",
       "      <th>id</th>\n",
       "      <th>tag_category</th>\n",
       "      <th>tag_value</th>\n",
       "    </tr>\n",
       "  </thead>\n",
       "  <tbody>\n",
       "    <tr>\n",
       "      <th>0</th>\n",
       "      <td>gBxSkU3fU6h</td>\n",
       "      <td>דירוג בתי ספר</td>\n",
       "      <td>1.0</td>\n",
       "    </tr>\n",
       "    <tr>\n",
       "      <th>1</th>\n",
       "      <td>gBxSkU3fU6h</td>\n",
       "      <td>התאמה לחילונים</td>\n",
       "      <td>1.0</td>\n",
       "    </tr>\n",
       "    <tr>\n",
       "      <th>2</th>\n",
       "      <td>gBxSkU3fU6h</td>\n",
       "      <td>התאמה לדתיים</td>\n",
       "      <td>2.0</td>\n",
       "    </tr>\n",
       "    <tr>\n",
       "      <th>3</th>\n",
       "      <td>gBxSkU3fU6h</td>\n",
       "      <td>קירבה לפארקים</td>\n",
       "      <td>2.0</td>\n",
       "    </tr>\n",
       "    <tr>\n",
       "      <th>4</th>\n",
       "      <td>gBxSkU3fU6h</td>\n",
       "      <td>רחוב שקט</td>\n",
       "      <td>1.0</td>\n",
       "    </tr>\n",
       "    <tr>\n",
       "      <th>...</th>\n",
       "      <td>...</td>\n",
       "      <td>...</td>\n",
       "      <td>...</td>\n",
       "    </tr>\n",
       "    <tr>\n",
       "      <th>43570</th>\n",
       "      <td>gU6gV1DFpep</td>\n",
       "      <td>התאמה לדתיים</td>\n",
       "      <td>5.0</td>\n",
       "    </tr>\n",
       "    <tr>\n",
       "      <th>43571</th>\n",
       "      <td>gU6gV1DFpep</td>\n",
       "      <td>קירבה לפארקים</td>\n",
       "      <td>1.0</td>\n",
       "    </tr>\n",
       "    <tr>\n",
       "      <th>43572</th>\n",
       "      <td>gU6gV1DFpep</td>\n",
       "      <td>רחוב שקט</td>\n",
       "      <td>5.0</td>\n",
       "    </tr>\n",
       "    <tr>\n",
       "      <th>43573</th>\n",
       "      <td>gU6gV1DFpep</td>\n",
       "      <td>התאמה למשפחות</td>\n",
       "      <td>2.0</td>\n",
       "    </tr>\n",
       "    <tr>\n",
       "      <th>43574</th>\n",
       "      <td>gU6gV1DFpep</td>\n",
       "      <td>קירבה לרכבת קלה</td>\n",
       "      <td>5.0</td>\n",
       "    </tr>\n",
       "  </tbody>\n",
       "</table>\n",
       "<p>43575 rows × 3 columns</p>\n",
       "</div>"
      ],
      "text/plain": [
       "                id     tag_category  tag_value\n",
       "0      gBxSkU3fU6h    דירוג בתי ספר        1.0\n",
       "1      gBxSkU3fU6h   התאמה לחילונים        1.0\n",
       "2      gBxSkU3fU6h     התאמה לדתיים        2.0\n",
       "3      gBxSkU3fU6h    קירבה לפארקים        2.0\n",
       "4      gBxSkU3fU6h         רחוב שקט        1.0\n",
       "...            ...              ...        ...\n",
       "43570  gU6gV1DFpep     התאמה לדתיים        5.0\n",
       "43571  gU6gV1DFpep    קירבה לפארקים        1.0\n",
       "43572  gU6gV1DFpep         רחוב שקט        5.0\n",
       "43573  gU6gV1DFpep    התאמה למשפחות        2.0\n",
       "43574  gU6gV1DFpep  קירבה לרכבת קלה        5.0\n",
       "\n",
       "[43575 rows x 3 columns]"
      ]
     },
     "execution_count": 66,
     "metadata": {},
     "output_type": "execute_result"
    }
   ],
   "source": [
    "tags_new"
   ]
  },
  {
   "cell_type": "code",
   "execution_count": 67,
   "id": "fdb0f59f",
   "metadata": {
    "id": "fdb0f59f",
    "outputId": "3be68a2d-7aa1-4b52-a4be-703d61d2058a"
   },
   "outputs": [
    {
     "name": "stdout",
     "output_type": "stream",
     "text": [
      "Apartments before: 6710\n",
      "Apartments after: 6225\n",
      "Apartments dropped: 485\n"
     ]
    }
   ],
   "source": [
    "print(f\"Apartments before: {len(apartments)}\")\n",
    "print(f\"Apartments after: {len(tags_cnt)}\")\n",
    "print(f\"Apartments dropped: {len(apartments) - len(tags_cnt)}\")"
   ]
  },
  {
   "cell_type": "code",
   "execution_count": 68,
   "id": "01b945d4",
   "metadata": {
    "id": "01b945d4",
    "outputId": "f1fdb91e-6dcc-4dbd-e662-a237e7566f1a"
   },
   "outputs": [
    {
     "data": {
      "image/png": "[encoded data removed]",
      "text/plain": [
       "<Figure size 1000x600 with 1 Axes>"
      ]
     },
     "metadata": {},
     "output_type": "display_data"
    }
   ],
   "source": [
    "avg_tags = tags_new.groupby(\"tag_category\")[\"tag_value\"].mean().reset_index(name=\"avg\")\n",
    "avg_tags.tag_category = [tag[::-1] for tag in avg_tags.tag_category]\n",
    "plt.figure(figsize=(10, 6))\n",
    "sns.barplot(x=avg_tags.tag_category, y=avg_tags.avg, data=avg_tags, palette='viridis')\n",
    "plt.title('ממוצע עבור כל תג'[::-1])\n",
    "plt.xlabel('תג'[::-1])\n",
    "plt.ylabel('ממוצע'[::-1])\n",
    "plt.show()"
   ]
  },
  {
   "cell_type": "markdown",
   "id": "90299f6f",
   "metadata": {
    "id": "90299f6f"
   },
   "source": [
    "## Filter all tables to return the relevant apartments"
   ]
  },
  {
   "cell_type": "code",
   "execution_count": 69,
   "id": "d1260982",
   "metadata": {
    "id": "d1260982"
   },
   "outputs": [],
   "source": [
    "tags_ap_ids = tags_new[[\"id\"]]"
   ]
  },
  {
   "cell_type": "markdown",
   "id": "e3d27e23",
   "metadata": {
    "id": "e3d27e23"
   },
   "source": [
    "##### Tags"
   ]
  },
  {
   "cell_type": "code",
   "execution_count": 70,
   "id": "ddf7367a",
   "metadata": {
    "id": "ddf7367a",
    "outputId": "5524b6be-d021-41e7-ccac-bcf24e401398",
    "scrolled": true
   },
   "outputs": [
    {
     "data": {
      "text/html": [
       "<div>\n",
       "<style scoped>\n",
       "    .dataframe tbody tr th:only-of-type {\n",
       "        vertical-align: middle;\n",
       "    }\n",
       "\n",
       "    .dataframe tbody tr th {\n",
       "        vertical-align: top;\n",
       "    }\n",
       "\n",
       "    .dataframe thead th {\n",
       "        text-align: right;\n",
       "    }\n",
       "</style>\n",
       "<table border=\"1\" class=\"dataframe\">\n",
       "  <thead>\n",
       "    <tr style=\"text-align: right;\">\n",
       "      <th></th>\n",
       "      <th>id</th>\n",
       "      <th>tag_category</th>\n",
       "      <th>tag_value</th>\n",
       "    </tr>\n",
       "  </thead>\n",
       "  <tbody>\n",
       "    <tr>\n",
       "      <th>0</th>\n",
       "      <td>gBxSkU3fU6h</td>\n",
       "      <td>דירוג בתי ספר</td>\n",
       "      <td>1.0</td>\n",
       "    </tr>\n",
       "    <tr>\n",
       "      <th>1</th>\n",
       "      <td>gBxSkU3fU6h</td>\n",
       "      <td>התאמה לחילונים</td>\n",
       "      <td>1.0</td>\n",
       "    </tr>\n",
       "    <tr>\n",
       "      <th>2</th>\n",
       "      <td>gBxSkU3fU6h</td>\n",
       "      <td>התאמה לדתיים</td>\n",
       "      <td>2.0</td>\n",
       "    </tr>\n",
       "    <tr>\n",
       "      <th>3</th>\n",
       "      <td>gBxSkU3fU6h</td>\n",
       "      <td>קירבה לפארקים</td>\n",
       "      <td>2.0</td>\n",
       "    </tr>\n",
       "    <tr>\n",
       "      <th>4</th>\n",
       "      <td>gBxSkU3fU6h</td>\n",
       "      <td>רחוב שקט</td>\n",
       "      <td>1.0</td>\n",
       "    </tr>\n",
       "    <tr>\n",
       "      <th>5</th>\n",
       "      <td>gBxSkU3fU6h</td>\n",
       "      <td>התאמה למשפחות</td>\n",
       "      <td>1.0</td>\n",
       "    </tr>\n",
       "    <tr>\n",
       "      <th>6</th>\n",
       "      <td>gBxSkU3fU6h</td>\n",
       "      <td>קירבה לרכבת קלה</td>\n",
       "      <td>5.0</td>\n",
       "    </tr>\n",
       "    <tr>\n",
       "      <th>7</th>\n",
       "      <td>kk7wJwtf1uL</td>\n",
       "      <td>דירוג בתי ספר</td>\n",
       "      <td>3.0</td>\n",
       "    </tr>\n",
       "    <tr>\n",
       "      <th>8</th>\n",
       "      <td>kk7wJwtf1uL</td>\n",
       "      <td>התאמה לחילונים</td>\n",
       "      <td>3.0</td>\n",
       "    </tr>\n",
       "    <tr>\n",
       "      <th>9</th>\n",
       "      <td>kk7wJwtf1uL</td>\n",
       "      <td>התאמה לדתיים</td>\n",
       "      <td>3.0</td>\n",
       "    </tr>\n",
       "  </tbody>\n",
       "</table>\n",
       "</div>"
      ],
      "text/plain": [
       "            id     tag_category  tag_value\n",
       "0  gBxSkU3fU6h    דירוג בתי ספר        1.0\n",
       "1  gBxSkU3fU6h   התאמה לחילונים        1.0\n",
       "2  gBxSkU3fU6h     התאמה לדתיים        2.0\n",
       "3  gBxSkU3fU6h    קירבה לפארקים        2.0\n",
       "4  gBxSkU3fU6h         רחוב שקט        1.0\n",
       "5  gBxSkU3fU6h    התאמה למשפחות        1.0\n",
       "6  gBxSkU3fU6h  קירבה לרכבת קלה        5.0\n",
       "7  kk7wJwtf1uL    דירוג בתי ספר        3.0\n",
       "8  kk7wJwtf1uL   התאמה לחילונים        3.0\n",
       "9  kk7wJwtf1uL     התאמה לדתיים        3.0"
      ]
     },
     "execution_count": 70,
     "metadata": {},
     "output_type": "execute_result"
    }
   ],
   "source": [
    "tags_df = tags_new\n",
    "tags_df.head(10)"
   ]
  },
  {
   "cell_type": "code",
   "execution_count": 71,
   "id": "68a03824",
   "metadata": {},
   "outputs": [],
   "source": [
    "d = {\n",
    "    \"דירוג בתי ספר\":\"school\",\n",
    "    \"התאמה לחילונים\":\"secular\",\n",
    "    \"התאמה לדתיים\":\"religious\",\n",
    "    \"קירבה לפארקים\":\"parks\",\n",
    "    \"רחוב שקט\":\"quiet_street\",\n",
    "    \"התאמה למשפחות\":\"families\",\n",
    "    \"קירבה לרכבת קלה\":\"light_trail\"\n",
    "}\n",
    "tags_df.tag_category.replace(d, inplace=True)"
   ]
  },
  {
   "cell_type": "markdown",
   "id": "a92cbb50",
   "metadata": {
    "id": "a92cbb50"
   },
   "source": [
    "##### Apartments"
   ]
  },
  {
   "cell_type": "code",
   "execution_count": 72,
   "id": "e4b5b6f2",
   "metadata": {
    "id": "e4b5b6f2",
    "outputId": "3395b16b-51d7-4781-eecf-6c05bf9bbee3"
   },
   "outputs": [
    {
     "data": {
      "text/html": [
       "<div>\n",
       "<style scoped>\n",
       "    .dataframe tbody tr th:only-of-type {\n",
       "        vertical-align: middle;\n",
       "    }\n",
       "\n",
       "    .dataframe tbody tr th {\n",
       "        vertical-align: top;\n",
       "    }\n",
       "\n",
       "    .dataframe thead th {\n",
       "        text-align: right;\n",
       "    }\n",
       "</style>\n",
       "<table border=\"1\" class=\"dataframe\">\n",
       "  <thead>\n",
       "    <tr style=\"text-align: right;\">\n",
       "      <th></th>\n",
       "      <th>id</th>\n",
       "      <th>lat</th>\n",
       "      <th>lng</th>\n",
       "      <th>create_date</th>\n",
       "      <th>address</th>\n",
       "      <th>floor</th>\n",
       "      <th>deal_type</th>\n",
       "      <th>beds</th>\n",
       "      <th>price</th>\n",
       "      <th>size_m2</th>\n",
       "      <th>condition</th>\n",
       "      <th>url</th>\n",
       "    </tr>\n",
       "  </thead>\n",
       "  <tbody>\n",
       "    <tr>\n",
       "      <th>0</th>\n",
       "      <td>ieVNwuOX98B</td>\n",
       "      <td>32.078710</td>\n",
       "      <td>34.781594</td>\n",
       "      <td>2023-12-20 10:26:49</td>\n",
       "      <td>מאנה 15, תל אביב יפו</td>\n",
       "      <td>2</td>\n",
       "      <td>להשכרה</td>\n",
       "      <td>3</td>\n",
       "      <td>10000</td>\n",
       "      <td>70</td>\n",
       "      <td>כמו חדש</td>\n",
       "      <td>https://www.madlan.co.il/listings/ieVNwuOX98B</td>\n",
       "    </tr>\n",
       "    <tr>\n",
       "      <th>7</th>\n",
       "      <td>kRYP2kIMVho</td>\n",
       "      <td>32.093788</td>\n",
       "      <td>34.799702</td>\n",
       "      <td>2023-12-20 10:35:53</td>\n",
       "      <td>בבלי 6, תל אביב יפו</td>\n",
       "      <td>3</td>\n",
       "      <td>להשכרה</td>\n",
       "      <td>5</td>\n",
       "      <td>12300</td>\n",
       "      <td>120</td>\n",
       "      <td>משופץ</td>\n",
       "      <td>https://www.madlan.co.il/listings/kRYP2kIMVho</td>\n",
       "    </tr>\n",
       "    <tr>\n",
       "      <th>14</th>\n",
       "      <td>bk4LlhcSrQI</td>\n",
       "      <td>32.089574</td>\n",
       "      <td>34.796605</td>\n",
       "      <td>2023-12-20 11:02:39</td>\n",
       "      <td>אלוני ניסים 13, תל אביב יפו</td>\n",
       "      <td>14</td>\n",
       "      <td>להשכרה</td>\n",
       "      <td>4</td>\n",
       "      <td>13000</td>\n",
       "      <td>170</td>\n",
       "      <td>כמו חדש</td>\n",
       "      <td>https://www.madlan.co.il/listings/bk4LlhcSrQI</td>\n",
       "    </tr>\n",
       "    <tr>\n",
       "      <th>21</th>\n",
       "      <td>cTRw7SDpf1E</td>\n",
       "      <td>32.046710</td>\n",
       "      <td>34.809844</td>\n",
       "      <td>2023-12-20 11:25:50</td>\n",
       "      <td>שדרות ששת הימים 13, תל אביב יפו</td>\n",
       "      <td>0</td>\n",
       "      <td>להשכרה</td>\n",
       "      <td>3</td>\n",
       "      <td>4800</td>\n",
       "      <td>85</td>\n",
       "      <td>משופץ</td>\n",
       "      <td>https://www.madlan.co.il/listings/cTRw7SDpf1E</td>\n",
       "    </tr>\n",
       "    <tr>\n",
       "      <th>28</th>\n",
       "      <td>N0okrcZMZ88</td>\n",
       "      <td>32.057983</td>\n",
       "      <td>34.771044</td>\n",
       "      <td>2023-12-20 12:27:07</td>\n",
       "      <td>הרצל 61, תל אביב יפו</td>\n",
       "      <td>1</td>\n",
       "      <td>להשכרה</td>\n",
       "      <td>1</td>\n",
       "      <td>3200</td>\n",
       "      <td>19</td>\n",
       "      <td>משופץ</td>\n",
       "      <td>https://www.madlan.co.il/listings/N0okrcZMZ88</td>\n",
       "    </tr>\n",
       "  </tbody>\n",
       "</table>\n",
       "</div>"
      ],
      "text/plain": [
       "             id        lat        lng          create_date  \\\n",
       "0   ieVNwuOX98B  32.078710  34.781594  2023-12-20 10:26:49   \n",
       "7   kRYP2kIMVho  32.093788  34.799702  2023-12-20 10:35:53   \n",
       "14  bk4LlhcSrQI  32.089574  34.796605  2023-12-20 11:02:39   \n",
       "21  cTRw7SDpf1E  32.046710  34.809844  2023-12-20 11:25:50   \n",
       "28  N0okrcZMZ88  32.057983  34.771044  2023-12-20 12:27:07   \n",
       "\n",
       "                            address  floor deal_type  beds  price  size_m2  \\\n",
       "0              מאנה 15, תל אביב יפו      2    להשכרה     3  10000       70   \n",
       "7               בבלי 6, תל אביב יפו      3    להשכרה     5  12300      120   \n",
       "14      אלוני ניסים 13, תל אביב יפו     14    להשכרה     4  13000      170   \n",
       "21  שדרות ששת הימים 13, תל אביב יפו      0    להשכרה     3   4800       85   \n",
       "28             הרצל 61, תל אביב יפו      1    להשכרה     1   3200       19   \n",
       "\n",
       "   condition                                            url  \n",
       "0    כמו חדש  https://www.madlan.co.il/listings/ieVNwuOX98B  \n",
       "7      משופץ  https://www.madlan.co.il/listings/kRYP2kIMVho  \n",
       "14   כמו חדש  https://www.madlan.co.il/listings/bk4LlhcSrQI  \n",
       "21     משופץ  https://www.madlan.co.il/listings/cTRw7SDpf1E  \n",
       "28     משופץ  https://www.madlan.co.il/listings/N0okrcZMZ88  "
      ]
     },
     "execution_count": 72,
     "metadata": {},
     "output_type": "execute_result"
    }
   ],
   "source": [
    "apartments_df = apartments.merge(\n",
    "    tags_ap_ids,\n",
    "    how=\"inner\",\n",
    "    on=\"id\"\n",
    ")\n",
    "apartments_df = apartments_df.drop_duplicates()\n",
    "apartments_df.head()"
   ]
  },
  {
   "cell_type": "code",
   "execution_count": 73,
   "id": "63f7edb4",
   "metadata": {
    "id": "63f7edb4"
   },
   "outputs": [],
   "source": [
    "import re\n",
    "\n",
    "def addCity(address):\n",
    "    text_after_last_comma = address.rsplit(',', maxsplit=1)[-1].strip()\n",
    "\n",
    "    match = re.match(r'.*\\d+\\s+(.*)', text_after_last_comma)\n",
    "    if match:\n",
    "        return match.group(1).strip()\n",
    "    return text_after_last_comma\n",
    "\n",
    "apartments_df[\"city\"] = apartments_df[\"address\"].apply(addCity)\n"
   ]
  },
  {
   "cell_type": "code",
   "execution_count": 74,
   "id": "de8f9114",
   "metadata": {
    "id": "de8f9114"
   },
   "outputs": [],
   "source": [
    "column_to_move = 'city'\n",
    "position = apartments_df.columns.get_loc('address') + 1\n",
    "apartments_df.insert(position, column_to_move, apartments_df.pop(column_to_move))"
   ]
  },
  {
   "cell_type": "code",
   "execution_count": 75,
   "id": "293a4189",
   "metadata": {
    "id": "293a4189",
    "outputId": "80f45f23-60ed-4ebb-8bfb-27a3d81e5f72"
   },
   "outputs": [
    {
     "data": {
      "text/plain": [
       "array(['תל אביב יפו', 'ירושלים', 'מבשרת ציון', 'אורה', 'גבעת זאב',\n",
       "       'כוכב יעקב', 'בית זית', 'חיפה'], dtype=object)"
      ]
     },
     "execution_count": 75,
     "metadata": {},
     "output_type": "execute_result"
    }
   ],
   "source": [
    "apartments_df.city.unique()"
   ]
  },
  {
   "cell_type": "code",
   "execution_count": 76,
   "id": "7f94a44e",
   "metadata": {
    "id": "7f94a44e",
    "outputId": "5dcec40f-d81b-46f6-b45a-5ee5fa6c5059"
   },
   "outputs": [
    {
     "data": {
      "text/html": [
       "<div>\n",
       "<style scoped>\n",
       "    .dataframe tbody tr th:only-of-type {\n",
       "        vertical-align: middle;\n",
       "    }\n",
       "\n",
       "    .dataframe tbody tr th {\n",
       "        vertical-align: top;\n",
       "    }\n",
       "\n",
       "    .dataframe thead th {\n",
       "        text-align: right;\n",
       "    }\n",
       "</style>\n",
       "<table border=\"1\" class=\"dataframe\">\n",
       "  <thead>\n",
       "    <tr style=\"text-align: right;\">\n",
       "      <th></th>\n",
       "      <th>lat</th>\n",
       "      <th>lng</th>\n",
       "      <th>floor</th>\n",
       "      <th>beds</th>\n",
       "      <th>price</th>\n",
       "      <th>size_m2</th>\n",
       "    </tr>\n",
       "  </thead>\n",
       "  <tbody>\n",
       "    <tr>\n",
       "      <th>count</th>\n",
       "      <td>6225.000000</td>\n",
       "      <td>6225.000000</td>\n",
       "      <td>6225.000000</td>\n",
       "      <td>6225.000000</td>\n",
       "      <td>6.225000e+03</td>\n",
       "      <td>6.225000e+03</td>\n",
       "    </tr>\n",
       "    <tr>\n",
       "      <th>mean</th>\n",
       "      <td>32.175916</td>\n",
       "      <td>34.972882</td>\n",
       "      <td>3.072450</td>\n",
       "      <td>3.688032</td>\n",
       "      <td>2.781329e+06</td>\n",
       "      <td>8.424975e+02</td>\n",
       "    </tr>\n",
       "    <tr>\n",
       "      <th>std</th>\n",
       "      <td>0.396271</td>\n",
       "      <td>0.179473</td>\n",
       "      <td>4.081007</td>\n",
       "      <td>1.481904</td>\n",
       "      <td>6.249536e+06</td>\n",
       "      <td>5.640141e+04</td>\n",
       "    </tr>\n",
       "    <tr>\n",
       "      <th>min</th>\n",
       "      <td>31.719673</td>\n",
       "      <td>34.746360</td>\n",
       "      <td>-1.000000</td>\n",
       "      <td>0.000000</td>\n",
       "      <td>8.000000e+01</td>\n",
       "      <td>-1.200000e+02</td>\n",
       "    </tr>\n",
       "    <tr>\n",
       "      <th>25%</th>\n",
       "      <td>31.789202</td>\n",
       "      <td>34.790308</td>\n",
       "      <td>1.000000</td>\n",
       "      <td>3.000000</td>\n",
       "      <td>9.300000e+03</td>\n",
       "      <td>7.000000e+01</td>\n",
       "    </tr>\n",
       "    <tr>\n",
       "      <th>50%</th>\n",
       "      <td>32.081720</td>\n",
       "      <td>34.982507</td>\n",
       "      <td>2.000000</td>\n",
       "      <td>4.000000</td>\n",
       "      <td>1.990000e+06</td>\n",
       "      <td>9.500000e+01</td>\n",
       "    </tr>\n",
       "    <tr>\n",
       "      <th>75%</th>\n",
       "      <td>32.775645</td>\n",
       "      <td>35.186995</td>\n",
       "      <td>4.000000</td>\n",
       "      <td>4.000000</td>\n",
       "      <td>3.850000e+06</td>\n",
       "      <td>1.230000e+02</td>\n",
       "    </tr>\n",
       "    <tr>\n",
       "      <th>max</th>\n",
       "      <td>32.841334</td>\n",
       "      <td>35.257817</td>\n",
       "      <td>40.000000</td>\n",
       "      <td>15.000000</td>\n",
       "      <td>3.500000e+08</td>\n",
       "      <td>4.450000e+06</td>\n",
       "    </tr>\n",
       "  </tbody>\n",
       "</table>\n",
       "</div>"
      ],
      "text/plain": [
       "               lat          lng        floor         beds         price  \\\n",
       "count  6225.000000  6225.000000  6225.000000  6225.000000  6.225000e+03   \n",
       "mean     32.175916    34.972882     3.072450     3.688032  2.781329e+06   \n",
       "std       0.396271     0.179473     4.081007     1.481904  6.249536e+06   \n",
       "min      31.719673    34.746360    -1.000000     0.000000  8.000000e+01   \n",
       "25%      31.789202    34.790308     1.000000     3.000000  9.300000e+03   \n",
       "50%      32.081720    34.982507     2.000000     4.000000  1.990000e+06   \n",
       "75%      32.775645    35.186995     4.000000     4.000000  3.850000e+06   \n",
       "max      32.841334    35.257817    40.000000    15.000000  3.500000e+08   \n",
       "\n",
       "            size_m2  \n",
       "count  6.225000e+03  \n",
       "mean   8.424975e+02  \n",
       "std    5.640141e+04  \n",
       "min   -1.200000e+02  \n",
       "25%    7.000000e+01  \n",
       "50%    9.500000e+01  \n",
       "75%    1.230000e+02  \n",
       "max    4.450000e+06  "
      ]
     },
     "execution_count": 76,
     "metadata": {},
     "output_type": "execute_result"
    }
   ],
   "source": [
    "apartments_df.describe()"
   ]
  },
  {
   "cell_type": "code",
   "execution_count": 77,
   "id": "90e9bc41",
   "metadata": {
    "id": "90e9bc41",
    "outputId": "f2b75073-2b2b-4d44-fa08-dbdc712a7286"
   },
   "outputs": [
    {
     "data": {
      "text/plain": [
       "6225"
      ]
     },
     "execution_count": 77,
     "metadata": {},
     "output_type": "execute_result"
    }
   ],
   "source": [
    "len(apartments_df)"
   ]
  },
  {
   "cell_type": "markdown",
   "id": "60915c5a",
   "metadata": {
    "id": "60915c5a"
   },
   "source": [
    "##### Insights"
   ]
  },
  {
   "cell_type": "code",
   "execution_count": 78,
   "id": "be507ddf",
   "metadata": {
    "id": "be507ddf",
    "outputId": "eec6694f-8ae3-49a9-8f82-af382943504f"
   },
   "outputs": [
    {
     "data": {
      "text/html": [
       "<div>\n",
       "<style scoped>\n",
       "    .dataframe tbody tr th:only-of-type {\n",
       "        vertical-align: middle;\n",
       "    }\n",
       "\n",
       "    .dataframe tbody tr th {\n",
       "        vertical-align: top;\n",
       "    }\n",
       "\n",
       "    .dataframe thead th {\n",
       "        text-align: right;\n",
       "    }\n",
       "</style>\n",
       "<table border=\"1\" class=\"dataframe\">\n",
       "  <thead>\n",
       "    <tr style=\"text-align: right;\">\n",
       "      <th></th>\n",
       "      <th>id</th>\n",
       "      <th>insight_category</th>\n",
       "      <th>insight_value</th>\n",
       "    </tr>\n",
       "  </thead>\n",
       "  <tbody>\n",
       "    <tr>\n",
       "      <th>0</th>\n",
       "      <td>gBxSkU3fU6h</td>\n",
       "      <td>חיים</td>\n",
       "      <td>בילויים, קניות וסידורים במרחק הליכה קצרה</td>\n",
       "    </tr>\n",
       "    <tr>\n",
       "      <th>7</th>\n",
       "      <td>gBxSkU3fU6h</td>\n",
       "      <td>מטרד</td>\n",
       "      <td>הקמת המטרו תגרום למטרדי בנייה באזור</td>\n",
       "    </tr>\n",
       "    <tr>\n",
       "      <th>14</th>\n",
       "      <td>gBxSkU3fU6h</td>\n",
       "      <td>תכנון</td>\n",
       "      <td>רובע עירוני חדש יקום בפי גלילות</td>\n",
       "    </tr>\n",
       "    <tr>\n",
       "      <th>21</th>\n",
       "      <td>gBxSkU3fU6h</td>\n",
       "      <td>תחבורה</td>\n",
       "      <td>גשר מתוכנן יקשר לאזורי חן ולים</td>\n",
       "    </tr>\n",
       "    <tr>\n",
       "      <th>28</th>\n",
       "      <td>gBxSkU3fU6h</td>\n",
       "      <td>תחבורה</td>\n",
       "      <td>צפוי שיפור בשבילי האופניים באזור</td>\n",
       "    </tr>\n",
       "    <tr>\n",
       "      <th>35</th>\n",
       "      <td>gBxSkU3fU6h</td>\n",
       "      <td>חינוך</td>\n",
       "      <td>בית הספר הסמוך לדירה מעולה</td>\n",
       "    </tr>\n",
       "    <tr>\n",
       "      <th>42</th>\n",
       "      <td>gBxSkU3fU6h</td>\n",
       "      <td>ידידותי למשפחה</td>\n",
       "      <td>סביבה מתאימה למשפחות</td>\n",
       "    </tr>\n",
       "    <tr>\n",
       "      <th>49</th>\n",
       "      <td>gBxSkU3fU6h</td>\n",
       "      <td>חיים</td>\n",
       "      <td>Limited park access</td>\n",
       "    </tr>\n",
       "    <tr>\n",
       "      <th>56</th>\n",
       "      <td>gBxSkU3fU6h</td>\n",
       "      <td>תכנון</td>\n",
       "      <td>פרויקט פינוי בינוי מתוכנן בסביבה</td>\n",
       "    </tr>\n",
       "    <tr>\n",
       "      <th>63</th>\n",
       "      <td>gBxSkU3fU6h</td>\n",
       "      <td>חיים</td>\n",
       "      <td>רחוב מגורים שקט</td>\n",
       "    </tr>\n",
       "  </tbody>\n",
       "</table>\n",
       "</div>"
      ],
      "text/plain": [
       "             id insight_category                             insight_value\n",
       "0   gBxSkU3fU6h             חיים  בילויים, קניות וסידורים במרחק הליכה קצרה\n",
       "7   gBxSkU3fU6h             מטרד       הקמת המטרו תגרום למטרדי בנייה באזור\n",
       "14  gBxSkU3fU6h            תכנון           רובע עירוני חדש יקום בפי גלילות\n",
       "21  gBxSkU3fU6h           תחבורה            גשר מתוכנן יקשר לאזורי חן ולים\n",
       "28  gBxSkU3fU6h           תחבורה          צפוי שיפור בשבילי האופניים באזור\n",
       "35  gBxSkU3fU6h            חינוך                בית הספר הסמוך לדירה מעולה\n",
       "42  gBxSkU3fU6h   ידידותי למשפחה                      סביבה מתאימה למשפחות\n",
       "49  gBxSkU3fU6h             חיים                       Limited park access\n",
       "56  gBxSkU3fU6h            תכנון          פרויקט פינוי בינוי מתוכנן בסביבה\n",
       "63  gBxSkU3fU6h             חיים                           רחוב מגורים שקט"
      ]
     },
     "execution_count": 78,
     "metadata": {},
     "output_type": "execute_result"
    }
   ],
   "source": [
    "insights_df = insight.merge(\n",
    "    tags_ap_ids,\n",
    "    how=\"inner\",\n",
    "    on=\"id\",\n",
    ")\n",
    "insights_df = insights_df.drop_duplicates()\n",
    "insights_df.head(10)"
   ]
  },
  {
   "cell_type": "markdown",
   "id": "5f627df5",
   "metadata": {
    "id": "5f627df5"
   },
   "source": [
    "##### Images"
   ]
  },
  {
   "cell_type": "code",
   "execution_count": 79,
   "id": "c8fd41fe",
   "metadata": {
    "id": "c8fd41fe",
    "outputId": "d6550ce8-d2f8-4ded-fe89-6c41083b491f"
   },
   "outputs": [
    {
     "data": {
      "text/html": [
       "<div>\n",
       "<style scoped>\n",
       "    .dataframe tbody tr th:only-of-type {\n",
       "        vertical-align: middle;\n",
       "    }\n",
       "\n",
       "    .dataframe tbody tr th {\n",
       "        vertical-align: top;\n",
       "    }\n",
       "\n",
       "    .dataframe thead th {\n",
       "        text-align: right;\n",
       "    }\n",
       "</style>\n",
       "<table border=\"1\" class=\"dataframe\">\n",
       "  <thead>\n",
       "    <tr style=\"text-align: right;\">\n",
       "      <th></th>\n",
       "      <th>id</th>\n",
       "      <th>image_url</th>\n",
       "    </tr>\n",
       "  </thead>\n",
       "  <tbody>\n",
       "    <tr>\n",
       "      <th>0</th>\n",
       "      <td>gBxSkU3fU6h</td>\n",
       "      <td>https://images2.madlan.co.il/t:nonce:v=2;resiz...</td>\n",
       "    </tr>\n",
       "    <tr>\n",
       "      <th>7</th>\n",
       "      <td>kk7wJwtf1uL</td>\n",
       "      <td>https://images2.madlan.co.il/t:nonce:v=2;resiz...</td>\n",
       "    </tr>\n",
       "    <tr>\n",
       "      <th>14</th>\n",
       "      <td>kk7wJwtf1uL</td>\n",
       "      <td>https://images2.madlan.co.il/t:nonce:v=2;resiz...</td>\n",
       "    </tr>\n",
       "    <tr>\n",
       "      <th>21</th>\n",
       "      <td>kk7wJwtf1uL</td>\n",
       "      <td>https://images2.madlan.co.il/t:nonce:v=2;resiz...</td>\n",
       "    </tr>\n",
       "    <tr>\n",
       "      <th>28</th>\n",
       "      <td>ct0ECL7b1HG</td>\n",
       "      <td>https://images2.madlan.co.il/t:nonce:v=2;resiz...</td>\n",
       "    </tr>\n",
       "  </tbody>\n",
       "</table>\n",
       "</div>"
      ],
      "text/plain": [
       "             id                                          image_url\n",
       "0   gBxSkU3fU6h  https://images2.madlan.co.il/t:nonce:v=2;resiz...\n",
       "7   kk7wJwtf1uL  https://images2.madlan.co.il/t:nonce:v=2;resiz...\n",
       "14  kk7wJwtf1uL  https://images2.madlan.co.il/t:nonce:v=2;resiz...\n",
       "21  kk7wJwtf1uL  https://images2.madlan.co.il/t:nonce:v=2;resiz...\n",
       "28  ct0ECL7b1HG  https://images2.madlan.co.il/t:nonce:v=2;resiz..."
      ]
     },
     "execution_count": 79,
     "metadata": {},
     "output_type": "execute_result"
    }
   ],
   "source": [
    "images_df = images.merge(\n",
    "    tags_ap_ids,\n",
    "    how=\"inner\",\n",
    "    on=\"id\",\n",
    ")\n",
    "images_df = images_df.drop_duplicates()\n",
    "images_df.head()"
   ]
  },
  {
   "cell_type": "code",
   "execution_count": 80,
   "id": "96b806f7",
   "metadata": {
    "id": "96b806f7",
    "outputId": "8e5eeb3a-e480-4fe7-8ec1-f1d3426fd41a"
   },
   "outputs": [
    {
     "name": "stdout",
     "output_type": "stream",
     "text": [
      "https://images2.madlan.co.il/t:nonce:v=2;resize:height=640;convert:type=webp/bulletin/gBxSkU3fU6h/clILWm.jpg\n"
     ]
    }
   ],
   "source": [
    "print(images_df.image_url.iloc[0])"
   ]
  },
  {
   "cell_type": "code",
   "execution_count": 81,
   "id": "5ff0de31",
   "metadata": {
    "id": "5ff0de31"
   },
   "outputs": [],
   "source": [
    "def getImageId(url):\n",
    "    match = re.match(r'.*/(.*\\.jpg)', url)\n",
    "    if match:\n",
    "        return match.group(1).strip()\n",
    "\n",
    "images_df[\"image_id\"] = images_df.image_url.apply(getImageId).str[:-4]"
   ]
  },
  {
   "cell_type": "code",
   "execution_count": 82,
   "id": "6f0a33f3",
   "metadata": {
    "id": "6f0a33f3",
    "outputId": "fc11ccba-dd77-483c-e86f-fce841f75e7e"
   },
   "outputs": [
    {
     "data": {
      "text/html": [
       "<div>\n",
       "<style scoped>\n",
       "    .dataframe tbody tr th:only-of-type {\n",
       "        vertical-align: middle;\n",
       "    }\n",
       "\n",
       "    .dataframe tbody tr th {\n",
       "        vertical-align: top;\n",
       "    }\n",
       "\n",
       "    .dataframe thead th {\n",
       "        text-align: right;\n",
       "    }\n",
       "</style>\n",
       "<table border=\"1\" class=\"dataframe\">\n",
       "  <thead>\n",
       "    <tr style=\"text-align: right;\">\n",
       "      <th></th>\n",
       "      <th>id</th>\n",
       "      <th>image_url</th>\n",
       "      <th>image_id</th>\n",
       "    </tr>\n",
       "  </thead>\n",
       "  <tbody>\n",
       "    <tr>\n",
       "      <th>0</th>\n",
       "      <td>gBxSkU3fU6h</td>\n",
       "      <td>https://images2.madlan.co.il/t:nonce:v=2;resiz...</td>\n",
       "      <td>clILWm</td>\n",
       "    </tr>\n",
       "    <tr>\n",
       "      <th>7</th>\n",
       "      <td>kk7wJwtf1uL</td>\n",
       "      <td>https://images2.madlan.co.il/t:nonce:v=2;resiz...</td>\n",
       "      <td>ejlBQ</td>\n",
       "    </tr>\n",
       "    <tr>\n",
       "      <th>14</th>\n",
       "      <td>kk7wJwtf1uL</td>\n",
       "      <td>https://images2.madlan.co.il/t:nonce:v=2;resiz...</td>\n",
       "      <td>NgYK2</td>\n",
       "    </tr>\n",
       "    <tr>\n",
       "      <th>21</th>\n",
       "      <td>kk7wJwtf1uL</td>\n",
       "      <td>https://images2.madlan.co.il/t:nonce:v=2;resiz...</td>\n",
       "      <td>bdKyIF</td>\n",
       "    </tr>\n",
       "    <tr>\n",
       "      <th>28</th>\n",
       "      <td>ct0ECL7b1HG</td>\n",
       "      <td>https://images2.madlan.co.il/t:nonce:v=2;resiz...</td>\n",
       "      <td>bGLTuZ</td>\n",
       "    </tr>\n",
       "  </tbody>\n",
       "</table>\n",
       "</div>"
      ],
      "text/plain": [
       "             id                                          image_url image_id\n",
       "0   gBxSkU3fU6h  https://images2.madlan.co.il/t:nonce:v=2;resiz...   clILWm\n",
       "7   kk7wJwtf1uL  https://images2.madlan.co.il/t:nonce:v=2;resiz...    ejlBQ\n",
       "14  kk7wJwtf1uL  https://images2.madlan.co.il/t:nonce:v=2;resiz...    NgYK2\n",
       "21  kk7wJwtf1uL  https://images2.madlan.co.il/t:nonce:v=2;resiz...   bdKyIF\n",
       "28  ct0ECL7b1HG  https://images2.madlan.co.il/t:nonce:v=2;resiz...   bGLTuZ"
      ]
     },
     "execution_count": 82,
     "metadata": {},
     "output_type": "execute_result"
    }
   ],
   "source": [
    "images_df.head()"
   ]
  },
  {
   "cell_type": "code",
   "execution_count": 83,
   "id": "1d97d43e",
   "metadata": {
    "id": "1d97d43e",
    "outputId": "1f9b29f8-727e-402b-b725-2d807a354045"
   },
   "outputs": [
    {
     "data": {
      "text/html": [
       "<div>\n",
       "<style scoped>\n",
       "    .dataframe tbody tr th:only-of-type {\n",
       "        vertical-align: middle;\n",
       "    }\n",
       "\n",
       "    .dataframe tbody tr th {\n",
       "        vertical-align: top;\n",
       "    }\n",
       "\n",
       "    .dataframe thead th {\n",
       "        text-align: right;\n",
       "    }\n",
       "</style>\n",
       "<table border=\"1\" class=\"dataframe\">\n",
       "  <thead>\n",
       "    <tr style=\"text-align: right;\">\n",
       "      <th></th>\n",
       "      <th>id</th>\n",
       "      <th>image_url</th>\n",
       "      <th>image_id</th>\n",
       "    </tr>\n",
       "  </thead>\n",
       "  <tbody>\n",
       "    <tr>\n",
       "      <th>count</th>\n",
       "      <td>34730</td>\n",
       "      <td>34730</td>\n",
       "      <td>32639</td>\n",
       "    </tr>\n",
       "    <tr>\n",
       "      <th>unique</th>\n",
       "      <td>5035</td>\n",
       "      <td>34730</td>\n",
       "      <td>32639</td>\n",
       "    </tr>\n",
       "    <tr>\n",
       "      <th>top</th>\n",
       "      <td>i2m47TUlLSw</td>\n",
       "      <td>https://images2.madlan.co.il/t:nonce:v=2;resiz...</td>\n",
       "      <td>clILWm</td>\n",
       "    </tr>\n",
       "    <tr>\n",
       "      <th>freq</th>\n",
       "      <td>46</td>\n",
       "      <td>1</td>\n",
       "      <td>1</td>\n",
       "    </tr>\n",
       "  </tbody>\n",
       "</table>\n",
       "</div>"
      ],
      "text/plain": [
       "                 id                                          image_url  \\\n",
       "count         34730                                              34730   \n",
       "unique         5035                                              34730   \n",
       "top     i2m47TUlLSw  https://images2.madlan.co.il/t:nonce:v=2;resiz...   \n",
       "freq             46                                                  1   \n",
       "\n",
       "       image_id  \n",
       "count     32639  \n",
       "unique    32639  \n",
       "top      clILWm  \n",
       "freq          1  "
      ]
     },
     "execution_count": 83,
     "metadata": {},
     "output_type": "execute_result"
    }
   ],
   "source": [
    "images_df.describe()"
   ]
  },
  {
   "cell_type": "code",
   "execution_count": 84,
   "id": "22ff33be",
   "metadata": {
    "id": "22ff33be",
    "outputId": "b05c3bbc-24c0-4ce9-f36b-aac43beb2881"
   },
   "outputs": [
    {
     "name": "stdout",
     "output_type": "stream",
     "text": [
      "2091\n"
     ]
    }
   ],
   "source": [
    "print(images_df.image_id.isnull().sum())"
   ]
  },
  {
   "cell_type": "code",
   "execution_count": 85,
   "id": "f2c15c0c",
   "metadata": {
    "id": "f2c15c0c"
   },
   "outputs": [],
   "source": [
    "images_df = images_df[~images_df[\"image_id\"].isnull()]"
   ]
  },
  {
   "cell_type": "code",
   "execution_count": 86,
   "id": "b3cc0fc1",
   "metadata": {
    "id": "b3cc0fc1",
    "outputId": "25146954-f754-4f65-8bc8-6fa5b8303e25"
   },
   "outputs": [
    {
     "data": {
      "text/html": [
       "<div>\n",
       "<style scoped>\n",
       "    .dataframe tbody tr th:only-of-type {\n",
       "        vertical-align: middle;\n",
       "    }\n",
       "\n",
       "    .dataframe tbody tr th {\n",
       "        vertical-align: top;\n",
       "    }\n",
       "\n",
       "    .dataframe thead th {\n",
       "        text-align: right;\n",
       "    }\n",
       "</style>\n",
       "<table border=\"1\" class=\"dataframe\">\n",
       "  <thead>\n",
       "    <tr style=\"text-align: right;\">\n",
       "      <th></th>\n",
       "      <th>id</th>\n",
       "      <th>image_url</th>\n",
       "      <th>image_id</th>\n",
       "    </tr>\n",
       "  </thead>\n",
       "  <tbody>\n",
       "    <tr>\n",
       "      <th>0</th>\n",
       "      <td>gBxSkU3fU6h</td>\n",
       "      <td>https://images2.madlan.co.il/t:nonce:v=2;resiz...</td>\n",
       "      <td>clILWm</td>\n",
       "    </tr>\n",
       "    <tr>\n",
       "      <th>7</th>\n",
       "      <td>kk7wJwtf1uL</td>\n",
       "      <td>https://images2.madlan.co.il/t:nonce:v=2;resiz...</td>\n",
       "      <td>ejlBQ</td>\n",
       "    </tr>\n",
       "    <tr>\n",
       "      <th>14</th>\n",
       "      <td>kk7wJwtf1uL</td>\n",
       "      <td>https://images2.madlan.co.il/t:nonce:v=2;resiz...</td>\n",
       "      <td>NgYK2</td>\n",
       "    </tr>\n",
       "    <tr>\n",
       "      <th>21</th>\n",
       "      <td>kk7wJwtf1uL</td>\n",
       "      <td>https://images2.madlan.co.il/t:nonce:v=2;resiz...</td>\n",
       "      <td>bdKyIF</td>\n",
       "    </tr>\n",
       "    <tr>\n",
       "      <th>28</th>\n",
       "      <td>ct0ECL7b1HG</td>\n",
       "      <td>https://images2.madlan.co.il/t:nonce:v=2;resiz...</td>\n",
       "      <td>bGLTuZ</td>\n",
       "    </tr>\n",
       "  </tbody>\n",
       "</table>\n",
       "</div>"
      ],
      "text/plain": [
       "             id                                          image_url image_id\n",
       "0   gBxSkU3fU6h  https://images2.madlan.co.il/t:nonce:v=2;resiz...   clILWm\n",
       "7   kk7wJwtf1uL  https://images2.madlan.co.il/t:nonce:v=2;resiz...    ejlBQ\n",
       "14  kk7wJwtf1uL  https://images2.madlan.co.il/t:nonce:v=2;resiz...    NgYK2\n",
       "21  kk7wJwtf1uL  https://images2.madlan.co.il/t:nonce:v=2;resiz...   bdKyIF\n",
       "28  ct0ECL7b1HG  https://images2.madlan.co.il/t:nonce:v=2;resiz...   bGLTuZ"
      ]
     },
     "execution_count": 86,
     "metadata": {},
     "output_type": "execute_result"
    }
   ],
   "source": [
    "images_df.head()"
   ]
  },
  {
   "cell_type": "markdown",
   "id": "c05610d7",
   "metadata": {
    "id": "c05610d7"
   },
   "source": [
    "## Exporting to JSON (preparing data for MongoDB):"
   ]
  },
  {
   "cell_type": "markdown",
   "id": "8cc8365a",
   "metadata": {},
   "source": [
    "#### For Sale"
   ]
  },
  {
   "cell_type": "code",
   "execution_count": 87,
   "id": "5ccbbd5a",
   "metadata": {},
   "outputs": [],
   "source": [
    "for_sale = apartments_df.iloc[np.where(apartments_df.deal_type==\"למכירה\")]"
   ]
  },
  {
   "cell_type": "code",
   "execution_count": 88,
   "id": "e1a2de6c",
   "metadata": {},
   "outputs": [
    {
     "data": {
      "text/html": [
       "<div>\n",
       "<style scoped>\n",
       "    .dataframe tbody tr th:only-of-type {\n",
       "        vertical-align: middle;\n",
       "    }\n",
       "\n",
       "    .dataframe tbody tr th {\n",
       "        vertical-align: top;\n",
       "    }\n",
       "\n",
       "    .dataframe thead th {\n",
       "        text-align: right;\n",
       "    }\n",
       "</style>\n",
       "<table border=\"1\" class=\"dataframe\">\n",
       "  <thead>\n",
       "    <tr style=\"text-align: right;\">\n",
       "      <th></th>\n",
       "      <th>id</th>\n",
       "      <th>lat</th>\n",
       "      <th>lng</th>\n",
       "      <th>create_date</th>\n",
       "      <th>address</th>\n",
       "      <th>city</th>\n",
       "      <th>floor</th>\n",
       "      <th>deal_type</th>\n",
       "      <th>beds</th>\n",
       "      <th>price</th>\n",
       "      <th>size_m2</th>\n",
       "      <th>condition</th>\n",
       "      <th>url</th>\n",
       "    </tr>\n",
       "  </thead>\n",
       "  <tbody>\n",
       "    <tr>\n",
       "      <th>2898</th>\n",
       "      <td>d3dbVQErVCp</td>\n",
       "      <td>32.119048</td>\n",
       "      <td>34.791080</td>\n",
       "      <td>2024-01-11 12:11:23</td>\n",
       "      <td>אשכול לוי 101, תל אביב יפו</td>\n",
       "      <td>תל אביב יפו</td>\n",
       "      <td>6</td>\n",
       "      <td>למכירה</td>\n",
       "      <td>4</td>\n",
       "      <td>5290000</td>\n",
       "      <td>106</td>\n",
       "      <td>משופץ</td>\n",
       "      <td>https://www.madlan.co.il/listings/d3dbVQErVCp</td>\n",
       "    </tr>\n",
       "    <tr>\n",
       "      <th>2912</th>\n",
       "      <td>co745SgbSvo</td>\n",
       "      <td>32.076425</td>\n",
       "      <td>34.779591</td>\n",
       "      <td>2024-01-11 13:22:39</td>\n",
       "      <td>השופטים 16, תל אביב יפו</td>\n",
       "      <td>תל אביב יפו</td>\n",
       "      <td>4</td>\n",
       "      <td>למכירה</td>\n",
       "      <td>2</td>\n",
       "      <td>4000000</td>\n",
       "      <td>81</td>\n",
       "      <td>ישן</td>\n",
       "      <td>https://www.madlan.co.il/listings/co745SgbSvo</td>\n",
       "    </tr>\n",
       "    <tr>\n",
       "      <th>2947</th>\n",
       "      <td>hZ5vNRFKDr8</td>\n",
       "      <td>32.063997</td>\n",
       "      <td>34.772231</td>\n",
       "      <td>2024-01-11 13:53:26</td>\n",
       "      <td>אחד העם 34, תל אביב יפו</td>\n",
       "      <td>תל אביב יפו</td>\n",
       "      <td>5</td>\n",
       "      <td>למכירה</td>\n",
       "      <td>3</td>\n",
       "      <td>9500000</td>\n",
       "      <td>160</td>\n",
       "      <td>חדש</td>\n",
       "      <td>https://www.madlan.co.il/listings/hZ5vNRFKDr8</td>\n",
       "    </tr>\n",
       "    <tr>\n",
       "      <th>2954</th>\n",
       "      <td>bMWmA4bbRo3</td>\n",
       "      <td>32.059006</td>\n",
       "      <td>34.798495</td>\n",
       "      <td>2024-01-11 14:01:17</td>\n",
       "      <td>לה גארדיה 64, תל אביב יפו</td>\n",
       "      <td>תל אביב יפו</td>\n",
       "      <td>7</td>\n",
       "      <td>למכירה</td>\n",
       "      <td>4</td>\n",
       "      <td>4980000</td>\n",
       "      <td>116</td>\n",
       "      <td>כמו חדש</td>\n",
       "      <td>https://www.madlan.co.il/listings/bMWmA4bbRo3</td>\n",
       "    </tr>\n",
       "    <tr>\n",
       "      <th>2961</th>\n",
       "      <td>hTGedzNQG2f</td>\n",
       "      <td>32.124594</td>\n",
       "      <td>34.800601</td>\n",
       "      <td>2024-01-11 14:11:18</td>\n",
       "      <td>אחימאיר אבא 14, תל אביב יפו</td>\n",
       "      <td>תל אביב יפו</td>\n",
       "      <td>13</td>\n",
       "      <td>למכירה</td>\n",
       "      <td>4</td>\n",
       "      <td>7250000</td>\n",
       "      <td>105</td>\n",
       "      <td>חדש</td>\n",
       "      <td>https://www.madlan.co.il/listings/hTGedzNQG2f</td>\n",
       "    </tr>\n",
       "  </tbody>\n",
       "</table>\n",
       "</div>"
      ],
      "text/plain": [
       "               id        lat        lng          create_date  \\\n",
       "2898  d3dbVQErVCp  32.119048  34.791080  2024-01-11 12:11:23   \n",
       "2912  co745SgbSvo  32.076425  34.779591  2024-01-11 13:22:39   \n",
       "2947  hZ5vNRFKDr8  32.063997  34.772231  2024-01-11 13:53:26   \n",
       "2954  bMWmA4bbRo3  32.059006  34.798495  2024-01-11 14:01:17   \n",
       "2961  hTGedzNQG2f  32.124594  34.800601  2024-01-11 14:11:18   \n",
       "\n",
       "                          address         city  floor deal_type  beds  \\\n",
       "2898   אשכול לוי 101, תל אביב יפו  תל אביב יפו      6    למכירה     4   \n",
       "2912      השופטים 16, תל אביב יפו  תל אביב יפו      4    למכירה     2   \n",
       "2947      אחד העם 34, תל אביב יפו  תל אביב יפו      5    למכירה     3   \n",
       "2954    לה גארדיה 64, תל אביב יפו  תל אביב יפו      7    למכירה     4   \n",
       "2961  אחימאיר אבא 14, תל אביב יפו  תל אביב יפו     13    למכירה     4   \n",
       "\n",
       "        price  size_m2 condition  \\\n",
       "2898  5290000      106     משופץ   \n",
       "2912  4000000       81       ישן   \n",
       "2947  9500000      160       חדש   \n",
       "2954  4980000      116   כמו חדש   \n",
       "2961  7250000      105       חדש   \n",
       "\n",
       "                                                url  \n",
       "2898  https://www.madlan.co.il/listings/d3dbVQErVCp  \n",
       "2912  https://www.madlan.co.il/listings/co745SgbSvo  \n",
       "2947  https://www.madlan.co.il/listings/hZ5vNRFKDr8  \n",
       "2954  https://www.madlan.co.il/listings/bMWmA4bbRo3  \n",
       "2961  https://www.madlan.co.il/listings/hTGedzNQG2f  "
      ]
     },
     "execution_count": 88,
     "metadata": {},
     "output_type": "execute_result"
    }
   ],
   "source": [
    "for_sale.head()"
   ]
  },
  {
   "cell_type": "code",
   "execution_count": 89,
   "id": "372ba762",
   "metadata": {},
   "outputs": [
    {
     "data": {
      "text/html": [
       "<div>\n",
       "<style scoped>\n",
       "    .dataframe tbody tr th:only-of-type {\n",
       "        vertical-align: middle;\n",
       "    }\n",
       "\n",
       "    .dataframe tbody tr th {\n",
       "        vertical-align: top;\n",
       "    }\n",
       "\n",
       "    .dataframe thead th {\n",
       "        text-align: right;\n",
       "    }\n",
       "</style>\n",
       "<table border=\"1\" class=\"dataframe\">\n",
       "  <thead>\n",
       "    <tr style=\"text-align: right;\">\n",
       "      <th></th>\n",
       "      <th>id</th>\n",
       "      <th>tag_category</th>\n",
       "      <th>tag_value</th>\n",
       "    </tr>\n",
       "  </thead>\n",
       "  <tbody>\n",
       "    <tr>\n",
       "      <th>0</th>\n",
       "      <td>gBxSkU3fU6h</td>\n",
       "      <td>school</td>\n",
       "      <td>1.0</td>\n",
       "    </tr>\n",
       "    <tr>\n",
       "      <th>1</th>\n",
       "      <td>gBxSkU3fU6h</td>\n",
       "      <td>secular</td>\n",
       "      <td>1.0</td>\n",
       "    </tr>\n",
       "    <tr>\n",
       "      <th>2</th>\n",
       "      <td>gBxSkU3fU6h</td>\n",
       "      <td>religious</td>\n",
       "      <td>2.0</td>\n",
       "    </tr>\n",
       "    <tr>\n",
       "      <th>3</th>\n",
       "      <td>gBxSkU3fU6h</td>\n",
       "      <td>parks</td>\n",
       "      <td>2.0</td>\n",
       "    </tr>\n",
       "    <tr>\n",
       "      <th>4</th>\n",
       "      <td>gBxSkU3fU6h</td>\n",
       "      <td>quiet_street</td>\n",
       "      <td>1.0</td>\n",
       "    </tr>\n",
       "  </tbody>\n",
       "</table>\n",
       "</div>"
      ],
      "text/plain": [
       "            id  tag_category  tag_value\n",
       "0  gBxSkU3fU6h        school        1.0\n",
       "1  gBxSkU3fU6h       secular        1.0\n",
       "2  gBxSkU3fU6h     religious        2.0\n",
       "3  gBxSkU3fU6h         parks        2.0\n",
       "4  gBxSkU3fU6h  quiet_street        1.0"
      ]
     },
     "execution_count": 89,
     "metadata": {},
     "output_type": "execute_result"
    }
   ],
   "source": [
    "tags_df.head()"
   ]
  },
  {
   "cell_type": "code",
   "execution_count": 90,
   "id": "15c679c5",
   "metadata": {},
   "outputs": [
    {
     "data": {
      "text/plain": [
       "array(['school', 'secular', 'religious', 'parks', 'quiet_street',\n",
       "       'families', 'light_trail'], dtype=object)"
      ]
     },
     "execution_count": 90,
     "metadata": {},
     "output_type": "execute_result"
    }
   ],
   "source": [
    "tags_df.tag_category.unique()"
   ]
  },
  {
   "cell_type": "code",
   "execution_count": 91,
   "id": "a4ed5d09",
   "metadata": {},
   "outputs": [
    {
     "data": {
      "text/html": [
       "<div>\n",
       "<style scoped>\n",
       "    .dataframe tbody tr th:only-of-type {\n",
       "        vertical-align: middle;\n",
       "    }\n",
       "\n",
       "    .dataframe tbody tr th {\n",
       "        vertical-align: top;\n",
       "    }\n",
       "\n",
       "    .dataframe thead th {\n",
       "        text-align: right;\n",
       "    }\n",
       "</style>\n",
       "<table border=\"1\" class=\"dataframe\">\n",
       "  <thead>\n",
       "    <tr style=\"text-align: right;\">\n",
       "      <th></th>\n",
       "      <th>id</th>\n",
       "      <th>insight_category</th>\n",
       "      <th>insight_value</th>\n",
       "    </tr>\n",
       "  </thead>\n",
       "  <tbody>\n",
       "    <tr>\n",
       "      <th>0</th>\n",
       "      <td>gBxSkU3fU6h</td>\n",
       "      <td>חיים</td>\n",
       "      <td>בילויים, קניות וסידורים במרחק הליכה קצרה</td>\n",
       "    </tr>\n",
       "    <tr>\n",
       "      <th>7</th>\n",
       "      <td>gBxSkU3fU6h</td>\n",
       "      <td>מטרד</td>\n",
       "      <td>הקמת המטרו תגרום למטרדי בנייה באזור</td>\n",
       "    </tr>\n",
       "    <tr>\n",
       "      <th>14</th>\n",
       "      <td>gBxSkU3fU6h</td>\n",
       "      <td>תכנון</td>\n",
       "      <td>רובע עירוני חדש יקום בפי גלילות</td>\n",
       "    </tr>\n",
       "    <tr>\n",
       "      <th>21</th>\n",
       "      <td>gBxSkU3fU6h</td>\n",
       "      <td>תחבורה</td>\n",
       "      <td>גשר מתוכנן יקשר לאזורי חן ולים</td>\n",
       "    </tr>\n",
       "    <tr>\n",
       "      <th>28</th>\n",
       "      <td>gBxSkU3fU6h</td>\n",
       "      <td>תחבורה</td>\n",
       "      <td>צפוי שיפור בשבילי האופניים באזור</td>\n",
       "    </tr>\n",
       "  </tbody>\n",
       "</table>\n",
       "</div>"
      ],
      "text/plain": [
       "             id insight_category                             insight_value\n",
       "0   gBxSkU3fU6h             חיים  בילויים, קניות וסידורים במרחק הליכה קצרה\n",
       "7   gBxSkU3fU6h             מטרד       הקמת המטרו תגרום למטרדי בנייה באזור\n",
       "14  gBxSkU3fU6h            תכנון           רובע עירוני חדש יקום בפי גלילות\n",
       "21  gBxSkU3fU6h           תחבורה            גשר מתוכנן יקשר לאזורי חן ולים\n",
       "28  gBxSkU3fU6h           תחבורה          צפוי שיפור בשבילי האופניים באזור"
      ]
     },
     "execution_count": 91,
     "metadata": {},
     "output_type": "execute_result"
    }
   ],
   "source": [
    "insights_df.head()"
   ]
  },
  {
   "cell_type": "code",
   "execution_count": 92,
   "id": "030713cd",
   "metadata": {},
   "outputs": [
    {
     "data": {
      "text/html": [
       "<div>\n",
       "<style scoped>\n",
       "    .dataframe tbody tr th:only-of-type {\n",
       "        vertical-align: middle;\n",
       "    }\n",
       "\n",
       "    .dataframe tbody tr th {\n",
       "        vertical-align: top;\n",
       "    }\n",
       "\n",
       "    .dataframe thead th {\n",
       "        text-align: right;\n",
       "    }\n",
       "</style>\n",
       "<table border=\"1\" class=\"dataframe\">\n",
       "  <thead>\n",
       "    <tr style=\"text-align: right;\">\n",
       "      <th></th>\n",
       "      <th>id</th>\n",
       "      <th>image_url</th>\n",
       "      <th>image_id</th>\n",
       "    </tr>\n",
       "  </thead>\n",
       "  <tbody>\n",
       "    <tr>\n",
       "      <th>0</th>\n",
       "      <td>gBxSkU3fU6h</td>\n",
       "      <td>https://images2.madlan.co.il/t:nonce:v=2;resiz...</td>\n",
       "      <td>clILWm</td>\n",
       "    </tr>\n",
       "    <tr>\n",
       "      <th>7</th>\n",
       "      <td>kk7wJwtf1uL</td>\n",
       "      <td>https://images2.madlan.co.il/t:nonce:v=2;resiz...</td>\n",
       "      <td>ejlBQ</td>\n",
       "    </tr>\n",
       "    <tr>\n",
       "      <th>14</th>\n",
       "      <td>kk7wJwtf1uL</td>\n",
       "      <td>https://images2.madlan.co.il/t:nonce:v=2;resiz...</td>\n",
       "      <td>NgYK2</td>\n",
       "    </tr>\n",
       "    <tr>\n",
       "      <th>21</th>\n",
       "      <td>kk7wJwtf1uL</td>\n",
       "      <td>https://images2.madlan.co.il/t:nonce:v=2;resiz...</td>\n",
       "      <td>bdKyIF</td>\n",
       "    </tr>\n",
       "    <tr>\n",
       "      <th>28</th>\n",
       "      <td>ct0ECL7b1HG</td>\n",
       "      <td>https://images2.madlan.co.il/t:nonce:v=2;resiz...</td>\n",
       "      <td>bGLTuZ</td>\n",
       "    </tr>\n",
       "  </tbody>\n",
       "</table>\n",
       "</div>"
      ],
      "text/plain": [
       "             id                                          image_url image_id\n",
       "0   gBxSkU3fU6h  https://images2.madlan.co.il/t:nonce:v=2;resiz...   clILWm\n",
       "7   kk7wJwtf1uL  https://images2.madlan.co.il/t:nonce:v=2;resiz...    ejlBQ\n",
       "14  kk7wJwtf1uL  https://images2.madlan.co.il/t:nonce:v=2;resiz...    NgYK2\n",
       "21  kk7wJwtf1uL  https://images2.madlan.co.il/t:nonce:v=2;resiz...   bdKyIF\n",
       "28  ct0ECL7b1HG  https://images2.madlan.co.il/t:nonce:v=2;resiz...   bGLTuZ"
      ]
     },
     "execution_count": 92,
     "metadata": {},
     "output_type": "execute_result"
    }
   ],
   "source": [
    "images_df.head()"
   ]
  },
  {
   "cell_type": "code",
   "execution_count": 93,
   "id": "2b2ac002",
   "metadata": {},
   "outputs": [],
   "source": [
    "combined_for_sale = for_sale.copy()\n",
    "\n",
    "# Merge tags\n",
    "tags_combined = tags_df.groupby('id').apply(lambda x: x[['tag_category', 'tag_value']].to_dict(orient='records')).reset_index(name='tags')\n",
    "combined_for_sale = combined_for_sale.merge(tags_combined, on='id', how='left')\n",
    "\n",
    "# Merge insights\n",
    "insights_combined = insights_df.groupby('id').apply(lambda x: x[['insight_category', 'insight_value']].to_dict(orient='records')).reset_index(name='insights')\n",
    "combined_for_sale = combined_for_sale.merge(insights_combined, on='id', how='left')\n",
    "\n",
    "# Merge images\n",
    "images_combined = images_df.groupby('id').apply(lambda x: x[['image_url', 'image_id']].to_dict(orient='records')).reset_index(name='images')\n",
    "combined_for_sale = combined_for_sale.merge(images_combined, on='id', how='left')\n",
    "\n",
    "# Convert to JSON without escaping slashes\n",
    "combined_json = combined_for_sale.to_json(orient='records', force_ascii=False, date_format='iso').replace('\\\\/', '/')"
   ]
  },
  {
   "cell_type": "code",
   "execution_count": 94,
   "id": "5b48e800",
   "metadata": {},
   "outputs": [],
   "source": [
    "# Write the JSON string to a file\n",
    "with open('for_sale_apartments.json', 'w', encoding='utf-8') as file:\n",
    "    file.write(combined_json)"
   ]
  },
  {
   "cell_type": "markdown",
   "id": "727c8c43",
   "metadata": {},
   "source": [
    "#### For Rent"
   ]
  },
  {
   "cell_type": "code",
   "execution_count": 95,
   "id": "8b6e8a4b",
   "metadata": {},
   "outputs": [],
   "source": [
    "for_rent = apartments_df.iloc[np.where(apartments_df.deal_type==\"להשכרה\")]"
   ]
  },
  {
   "cell_type": "code",
   "execution_count": 96,
   "id": "03890755",
   "metadata": {},
   "outputs": [],
   "source": [
    "combined_for_rent = for_rent.copy()\n",
    "\n",
    "# Merge tags\n",
    "tags_combined = tags_df.groupby('id').apply(lambda x: x[['tag_category', 'tag_value']].to_dict(orient='records')).reset_index(name='tags')\n",
    "combined_for_rent = combined_for_rent.merge(tags_combined, on='id', how='left')\n",
    "\n",
    "# Merge insights\n",
    "insights_combined = insights_df.groupby('id').apply(lambda x: x[['insight_category', 'insight_value']].to_dict(orient='records')).reset_index(name='insights')\n",
    "combined_for_rent = combined_for_rent.merge(insights_combined, on='id', how='left')\n",
    "\n",
    "# Merge images\n",
    "images_combined = images_df.groupby('id').apply(lambda x: x[['image_url', 'image_id']].to_dict(orient='records')).reset_index(name='images')\n",
    "combined_for_rent = combined_for_rent.merge(images_combined, on='id', how='left')\n",
    "\n",
    "# Convert to JSON without escaping slashes\n",
    "combined_json = combined_for_rent.to_json(orient='records', force_ascii=False, date_format='iso').replace('\\\\/', '/')"
   ]
  },
  {
   "cell_type": "code",
   "execution_count": 97,
   "id": "58219e5d",
   "metadata": {},
   "outputs": [],
   "source": [
    "# Write the JSON string to a file\n",
    "with open('for_rent_apartments.json', 'w', encoding='utf-8') as file:\n",
    "    file.write(combined_json)"
   ]
  }
 ],
 "metadata": {
  "colab": {
   "provenance": []
  },
  "kernelspec": {
   "display_name": "Python 3 (ipykernel)",
   "language": "python",
   "name": "python3"
  },
  "language_info": {
   "codemirror_mode": {
    "name": "ipython",
    "version": 3
   },
   "file_extension": ".py",
   "mimetype": "text/x-python",
   "name": "python",
   "nbconvert_exporter": "python",
   "pygments_lexer": "ipython3",
   "version": "3.9.13"
  }
 },
 "nbformat": 4,
 "nbformat_minor": 5
}
