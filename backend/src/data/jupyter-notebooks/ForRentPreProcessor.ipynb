{
 "cells": [
  {
   "cell_type": "code",
   "execution_count": 2,
   "id": "4bb3c224",
   "metadata": {},
   "outputs": [],
   "source": [
    "import pandas as pd\n",
    "import numpy as np\n",
    "import matplotlib.pyplot as plt\n",
    "import seaborn as sns\n",
    "\n",
    "from sklearn.cluster import KMeans\n",
    "from sklearn.preprocessing import StandardScaler, OneHotEncoder\n",
    "from sklearn.pipeline import Pipeline\n",
    "from sklearn.compose import ColumnTransformer\n",
    "\n",
    "from IPython.display import display\n",
    "\n",
    "import warnings\n",
    "import pickle\n",
    "\n",
    "warnings.filterwarnings('ignore')\n",
    "\n",
    "%matplotlib inline"
   ]
  },
  {
   "cell_type": "code",
   "execution_count": 3,
   "id": "d91c3cfe",
   "metadata": {},
   "outputs": [
    {
     "data": {
      "text/html": [
       "<div>\n",
       "<style scoped>\n",
       "    .dataframe tbody tr th:only-of-type {\n",
       "        vertical-align: middle;\n",
       "    }\n",
       "\n",
       "    .dataframe tbody tr th {\n",
       "        vertical-align: top;\n",
       "    }\n",
       "\n",
       "    .dataframe thead th {\n",
       "        text-align: right;\n",
       "    }\n",
       "</style>\n",
       "<table border=\"1\" class=\"dataframe\">\n",
       "  <thead>\n",
       "    <tr style=\"text-align: right;\">\n",
       "      <th></th>\n",
       "      <th>id</th>\n",
       "      <th>floor</th>\n",
       "      <th>beds</th>\n",
       "      <th>price</th>\n",
       "      <th>size_m2</th>\n",
       "      <th>families</th>\n",
       "      <th>light_trail</th>\n",
       "      <th>parks</th>\n",
       "      <th>quiet_street</th>\n",
       "      <th>religious</th>\n",
       "      <th>school</th>\n",
       "      <th>secular</th>\n",
       "    </tr>\n",
       "  </thead>\n",
       "  <tbody>\n",
       "    <tr>\n",
       "      <th>0</th>\n",
       "      <td>ieVNwuOX98B</td>\n",
       "      <td>2</td>\n",
       "      <td>3</td>\n",
       "      <td>10000</td>\n",
       "      <td>70</td>\n",
       "      <td>2.0</td>\n",
       "      <td>1.0</td>\n",
       "      <td>1.0</td>\n",
       "      <td>1.0</td>\n",
       "      <td>2.0</td>\n",
       "      <td>2.0</td>\n",
       "      <td>5.0</td>\n",
       "    </tr>\n",
       "    <tr>\n",
       "      <th>1</th>\n",
       "      <td>kRYP2kIMVho</td>\n",
       "      <td>3</td>\n",
       "      <td>5</td>\n",
       "      <td>12300</td>\n",
       "      <td>120</td>\n",
       "      <td>1.0</td>\n",
       "      <td>5.0</td>\n",
       "      <td>2.0</td>\n",
       "      <td>1.0</td>\n",
       "      <td>1.0</td>\n",
       "      <td>1.0</td>\n",
       "      <td>1.0</td>\n",
       "    </tr>\n",
       "    <tr>\n",
       "      <th>2</th>\n",
       "      <td>bk4LlhcSrQI</td>\n",
       "      <td>14</td>\n",
       "      <td>4</td>\n",
       "      <td>13000</td>\n",
       "      <td>170</td>\n",
       "      <td>1.0</td>\n",
       "      <td>3.0</td>\n",
       "      <td>4.0</td>\n",
       "      <td>1.0</td>\n",
       "      <td>1.0</td>\n",
       "      <td>1.0</td>\n",
       "      <td>5.0</td>\n",
       "    </tr>\n",
       "    <tr>\n",
       "      <th>3</th>\n",
       "      <td>cTRw7SDpf1E</td>\n",
       "      <td>0</td>\n",
       "      <td>3</td>\n",
       "      <td>4800</td>\n",
       "      <td>85</td>\n",
       "      <td>3.0</td>\n",
       "      <td>5.0</td>\n",
       "      <td>3.0</td>\n",
       "      <td>3.0</td>\n",
       "      <td>2.0</td>\n",
       "      <td>2.0</td>\n",
       "      <td>2.0</td>\n",
       "    </tr>\n",
       "    <tr>\n",
       "      <th>4</th>\n",
       "      <td>N0okrcZMZ88</td>\n",
       "      <td>1</td>\n",
       "      <td>1</td>\n",
       "      <td>3200</td>\n",
       "      <td>19</td>\n",
       "      <td>5.0</td>\n",
       "      <td>5.0</td>\n",
       "      <td>5.0</td>\n",
       "      <td>5.0</td>\n",
       "      <td>5.0</td>\n",
       "      <td>5.0</td>\n",
       "      <td>5.0</td>\n",
       "    </tr>\n",
       "  </tbody>\n",
       "</table>\n",
       "</div>"
      ],
      "text/plain": [
       "            id  floor  beds  price  size_m2  families  light_trail  parks  \\\n",
       "0  ieVNwuOX98B      2     3  10000       70       2.0          1.0    1.0   \n",
       "1  kRYP2kIMVho      3     5  12300      120       1.0          5.0    2.0   \n",
       "2  bk4LlhcSrQI     14     4  13000      170       1.0          3.0    4.0   \n",
       "3  cTRw7SDpf1E      0     3   4800       85       3.0          5.0    3.0   \n",
       "4  N0okrcZMZ88      1     1   3200       19       5.0          5.0    5.0   \n",
       "\n",
       "   quiet_street  religious  school  secular  \n",
       "0           1.0        2.0     2.0      5.0  \n",
       "1           1.0        1.0     1.0      1.0  \n",
       "2           1.0        1.0     1.0      5.0  \n",
       "3           3.0        2.0     2.0      2.0  \n",
       "4           5.0        5.0     5.0      5.0  "
      ]
     },
     "execution_count": 3,
     "metadata": {},
     "output_type": "execute_result"
    }
   ],
   "source": [
    "def read_json_df(path):\n",
    "    json = pd.read_json(r\"{}\".format(path))\n",
    "    df_apartments = json[['id', 'floor', 'beds', 'price', 'size_m2']]\n",
    "    \n",
    "    df_tags = json.explode('tags').dropna(subset=['tags'])\n",
    "    df_tags['tag_category'] = df_tags['tags'].apply(lambda x: x['tag_category'])\n",
    "    df_tags['tag_value'] = df_tags['tags'].apply(lambda x: x['tag_value'])\n",
    "    \n",
    "    df_tags = df_tags.pivot_table(index='id',\n",
    "                                  columns='tag_category', \n",
    "                                  values='tag_value', \n",
    "                                  aggfunc='first').reset_index()\n",
    "    \n",
    "    df = df_apartments.merge(df_tags, on='id', how='left')\n",
    "    return df\n",
    "\n",
    "\n",
    "df = read_json_df(\"for_rent_apartments.json\")\n",
    "df.head()"
   ]
  },
  {
   "cell_type": "code",
   "execution_count": 4,
   "id": "2c2fdb58",
   "metadata": {},
   "outputs": [],
   "source": [
    "numerical_features = df.drop(\"id\",axis=1).columns"
   ]
  },
  {
   "cell_type": "code",
   "execution_count": 5,
   "id": "e1b4bc94",
   "metadata": {},
   "outputs": [],
   "source": [
    "numerical_transformer = StandardScaler()"
   ]
  },
  {
   "cell_type": "code",
   "execution_count": 6,
   "id": "ef91d87a",
   "metadata": {},
   "outputs": [],
   "source": [
    "preprocessor = ColumnTransformer(\n",
    "    transformers=[\n",
    "        ('num', numerical_transformer, numerical_features)\n",
    "    ])"
   ]
  },
  {
   "cell_type": "code",
   "execution_count": 7,
   "id": "f2762e83",
   "metadata": {},
   "outputs": [
    {
     "data": {
      "text/plain": [
       "array([[-0.24360446, -0.17568178, -0.03773616, ..., -0.59701748,\n",
       "        -0.27776431,  1.15964766],\n",
       "       [-0.02920649,  1.21112129, -0.02777266, ..., -1.18385129,\n",
       "        -0.90178647, -1.27532192],\n",
       "       [ 2.32917119,  0.51771976, -0.02474029, ..., -1.18385129,\n",
       "        -0.90178647,  1.15964766],\n",
       "       ...,\n",
       "       [-0.45800243, -0.17568178, -0.0645943 , ...,  1.16348396,\n",
       "        -0.27776431, -0.66657952],\n",
       "       [ 1.90037525, -0.17568178, -0.05722997, ...,  1.16348396,\n",
       "         1.59430216,  1.15964766],\n",
       "       [-0.24360446, -1.56248485, -0.07282502, ...,  1.16348396,\n",
       "         0.97028001,  0.55090526]])"
      ]
     },
     "execution_count": 7,
     "metadata": {},
     "output_type": "execute_result"
    }
   ],
   "source": [
    "preprocessor.fit_transform(df)"
   ]
  },
  {
   "cell_type": "code",
   "execution_count": 8,
   "id": "4bc99a4e",
   "metadata": {},
   "outputs": [],
   "source": [
    "with open('for_rent_preprocessor.pkl', 'wb') as f:\n",
    "    pickle.dump(preprocessor, f)"
   ]
  }
 ],
 "metadata": {
  "kernelspec": {
   "display_name": "Python 3 (ipykernel)",
   "language": "python",
   "name": "python3"
  },
  "language_info": {
   "codemirror_mode": {
    "name": "ipython",
    "version": 3
   },
   "file_extension": ".py",
   "mimetype": "text/x-python",
   "name": "python",
   "nbconvert_exporter": "python",
   "pygments_lexer": "ipython3",
   "version": "3.9.13"
  }
 },
 "nbformat": 4,
 "nbformat_minor": 5
}
